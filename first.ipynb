{
 "cells": [
  {
   "cell_type": "code",
   "execution_count": 129,
   "id": "5e8482ec-017d-4444-a14e-5efcb77c56ca",
   "metadata": {},
   "outputs": [],
   "source": [
    "%matplotlib inline\n",
    "import matplotlib.pyplot as plt\n",
    "from matplotlib import cm\n",
    "from matplotlib.ticker import LinearLocator\n",
    "import numpy as np\n",
    "import ipywidgets as widgets\n",
    "from ipywidgets import interact, interact_manual\n",
    "\n",
    "plt.rcParams['figure.dpi'] = 200\n",
    "\n",
    "\n",
    "import tensorflow as tf\n",
    "import tensorflow_datasets as tfds"
   ]
  },
  {
   "cell_type": "code",
   "execution_count": 130,
   "id": "3114277c-8378-4da5-9bb7-3e717103f5fb",
   "metadata": {},
   "outputs": [],
   "source": [
    "ds = tfds.load('mnist', split='train', shuffle_files=True)"
   ]
  },
  {
   "cell_type": "code",
   "execution_count": 131,
   "id": "5dc2edff-e347-4602-91f5-fac61e8b739f",
   "metadata": {},
   "outputs": [],
   "source": [
    "(ds_train, ds_test), ds_info = tfds.load(\n",
    "    'mnist',\n",
    "    split=['train', 'test'],\n",
    "    shuffle_files=True,\n",
    "    as_supervised=True,\n",
    "    with_info=True,\n",
    ")"
   ]
  },
  {
   "cell_type": "code",
   "execution_count": 132,
   "id": "011e6044-dbde-434e-a7ec-6c3dda42afc1",
   "metadata": {},
   "outputs": [],
   "source": [
    "def normalize_img(image, label):\n",
    "  \"\"\"Normalizes images: `uint8` -> `float32`.\"\"\"\n",
    "  return tf.cast(image, tf.float32) / 255., label\n",
    "\n",
    "ds_train = ds_train.map(\n",
    "    normalize_img, num_parallel_calls=tf.data.AUTOTUNE)\n",
    "ds_train = ds_train.cache()\n",
    "#ds_train = ds_train.shuffle(ds_info.splits['train'].num_examples)\n",
    "ds_train = ds_train.batch(128)\n",
    "ds_train = ds_train.prefetch(tf.data.AUTOTUNE)\n",
    "\n",
    "ds_test = ds_test.map(\n",
    "    normalize_img, num_parallel_calls=tf.data.AUTOTUNE)\n",
    "ds_test = ds_test.batch(128)\n",
    "ds_test = ds_test.cache()\n",
    "ds_test = ds_test.prefetch(tf.data.AUTOTUNE)"
   ]
  },
  {
   "cell_type": "code",
   "execution_count": 139,
   "id": "c967d4dc-71a2-455b-9e53-77b4914590df",
   "metadata": {},
   "outputs": [],
   "source": [
    "model = tf.keras.models.Sequential([\n",
    "  tf.keras.layers.Flatten(input_shape=(28, 28)),\n",
    "  tf.keras.layers.Dense(128, activation='relu'),\n",
    "  tf.keras.layers.Dense(10)\n",
    "])\n",
    "model.compile(\n",
    "    optimizer=tf.keras.optimizers.Adam(0.001),\n",
    "    loss=tf.keras.losses.SparseCategoricalCrossentropy(from_logits=True),\n",
    "    metrics=[tf.keras.metrics.SparseCategoricalAccuracy()],\n",
    ")"
   ]
  },
  {
   "cell_type": "code",
   "execution_count": 138,
   "id": "9fd07f28-daae-43e1-bbf4-efcdc5809eba",
   "metadata": {},
   "outputs": [
    {
     "name": "stdout",
     "output_type": "stream",
     "text": [
      "Epoch 1/6\n",
      "469/469 [==============================] - 1s 1ms/step - loss: 0.3618 - sparse_categorical_accuracy: 0.8996 - val_loss: 0.1922 - val_sparse_categorical_accuracy: 0.9449\n",
      "Epoch 2/6\n",
      "469/469 [==============================] - 1s 1ms/step - loss: 0.1668 - sparse_categorical_accuracy: 0.9524 - val_loss: 0.1379 - val_sparse_categorical_accuracy: 0.9589\n",
      "Epoch 3/6\n",
      "469/469 [==============================] - 1s 1ms/step - loss: 0.1209 - sparse_categorical_accuracy: 0.9668 - val_loss: 0.1154 - val_sparse_categorical_accuracy: 0.9655\n",
      "Epoch 4/6\n",
      "469/469 [==============================] - 1s 1ms/step - loss: 0.0941 - sparse_categorical_accuracy: 0.9737 - val_loss: 0.1025 - val_sparse_categorical_accuracy: 0.9694\n",
      "Epoch 5/6\n",
      "469/469 [==============================] - 1s 1ms/step - loss: 0.0761 - sparse_categorical_accuracy: 0.9789 - val_loss: 0.0942 - val_sparse_categorical_accuracy: 0.9710\n",
      "Epoch 6/6\n",
      "469/469 [==============================] - 1s 1ms/step - loss: 0.0628 - sparse_categorical_accuracy: 0.9827 - val_loss: 0.0895 - val_sparse_categorical_accuracy: 0.9727\n"
     ]
    },
    {
     "data": {
      "text/plain": [
       "<keras.callbacks.History at 0x7f5a426a3e50>"
      ]
     },
     "execution_count": 138,
     "metadata": {},
     "output_type": "execute_result"
    }
   ],
   "source": [
    "model.fit(\n",
    "    ds_train,\n",
    "    epochs=6,\n",
    "    validation_data=ds_test,\n",
    ")"
   ]
  },
  {
   "cell_type": "code",
   "execution_count": 118,
   "id": "f5c4d00f-8e00-45b3-982d-22b64e2ac518",
   "metadata": {},
   "outputs": [
    {
     "name": "stdout",
     "output_type": "stream",
     "text": [
      "79/79 [==============================] - 0s 814us/step - loss: 0.0829 - sparse_categorical_accuracy: 0.9747\n"
     ]
    },
    {
     "data": {
      "text/plain": [
       "[0.08293945342302322, 0.9746999740600586]"
      ]
     },
     "execution_count": 118,
     "metadata": {},
     "output_type": "execute_result"
    }
   ],
   "source": [
    "model.evaluate(ds_test)"
   ]
  },
  {
   "cell_type": "code",
   "execution_count": 120,
   "id": "558111b0-f65f-46cd-a8df-87bfd160b5e4",
   "metadata": {},
   "outputs": [],
   "source": [
    "def get_random_weights():\n",
    "    random_weights = []\n",
    "    for a in model.get_weights():\n",
    "        random_weights.append(np.random.random(a.shape)*2-1)\n",
    "    return random_weights"
   ]
  },
  {
   "cell_type": "code",
   "execution_count": 143,
   "id": "d30d3b5a-893c-4ef0-bb11-61b06f7cb775",
   "metadata": {},
   "outputs": [],
   "source": [
    "def flatten_weights(w):\n",
    "    w1 = []\n",
    "    for a in w:\n",
    "        w1.append(np.ndarray.flatten(a))\n",
    "    return np.concatenate(w1)"
   ]
  },
  {
   "cell_type": "code",
   "execution_count": 144,
   "id": "e1546701-53e0-40aa-afee-cb888f6d43a6",
   "metadata": {},
   "outputs": [],
   "source": [
    "def expand_weights(v, shapes):\n",
    "    w = []\n",
    "    shape_sizes = [np.prod(s) for s in shapes]\n",
    "    split_indicies = [shape_sizes[0]]\n",
    "    for l in shape_sizes[1:]:\n",
    "        split_indicies.append( split_indicies[-1] + l)\n",
    "    w1 = np.split(v, split_indicies)[:-1]\n",
    "    for s, w1_part in zip(shapes, w1):\n",
    "        w.append(np.reshape(w1_part, s))\n",
    "    return w"
   ]
  },
  {
   "cell_type": "code",
   "execution_count": 146,
   "id": "cf7b5efa-5169-43f8-81d1-04ff826e9704",
   "metadata": {},
   "outputs": [],
   "source": [
    "# random vectors. set them first, so we can explore freely afterwards\n",
    "rx = 2*np.random.random(s)-1\n",
    "ry = 2*np.random.random(s)-1"
   ]
  },
  {
   "cell_type": "code",
   "execution_count": 145,
   "id": "2c955bc8-2e31-424b-aa6f-acdf457abf20",
   "metadata": {},
   "outputs": [
    {
     "data": {
      "application/vnd.jupyter.widget-view+json": {
       "model_id": "97b7572780244148ae61958ab5d6813b",
       "version_major": 2,
       "version_minor": 0
      },
      "text/plain": [
       "interactive(children=(FloatText(value=0.01, description='alpha'), IntText(value=2, description='max_step'), Bu…"
      ]
     },
     "metadata": {},
     "output_type": "display_data"
    }
   ],
   "source": [
    "@interact_manual(alpha=widgets.FloatText(value=0.01), max_step=widgets.IntText(value=2))\n",
    "def landscape(alpha=0.01, max_step=4):\n",
    "    w_old = w = flatten_weights(model.get_weights())\n",
    "    shapes = [s.shape for s in model.get_weights()]\n",
    "    \n",
    "    fig, ax = plt.subplots(subplot_kw={\"projection\": \"3d\"})\n",
    "\n",
    "    # Make data.\n",
    "    x_ticks = np.arange(-max_step, max_step)\n",
    "    y_ticks = np.arange(-max_step, max_step)\n",
    "    X, Y = np.meshgrid(x_ticks, y_ticks)\n",
    "    \n",
    "    def eval_step(x_tick, y_tick):\n",
    "        w = w_old + x_tick*alpha * rx + y_tick*alpha * ry\n",
    "        model.set_weights(expand_weights(w, shapes))\n",
    "        return model.evaluate(ds_test, verbose=0)[0]\n",
    "    evaluate = np.vectorize(eval_step)\n",
    "    Z = evaluate(X, Y)\n",
    "    model.set_weights(expand_weights(w_old, shapes))\n",
    "    \n",
    "    # Plot the surface.\n",
    "    surf = ax.plot_surface(X, Y, Z, cmap=cm.coolwarm,\n",
    "                           linewidth=0, antialiased=False)\n",
    "\n",
    "    ax.zaxis.set_major_formatter('{x:.02f}')\n",
    "    fig.colorbar(surf, shrink=0.5, aspect=10)"
   ]
  },
  {
   "cell_type": "code",
   "execution_count": 84,
   "id": "2b7955fc-5afd-40ee-8075-0d8419eaf870",
   "metadata": {},
   "outputs": [
    {
     "data": {
      "application/vnd.jupyter.widget-view+json": {
       "model_id": "42e49811aa324622b03fb48a90d6a6c3",
       "version_major": 2,
       "version_minor": 0
      },
      "text/plain": [
       "interactive(children=(Text(value='World', description='text'), Button(description='Run Interact', style=Button…"
      ]
     },
     "metadata": {},
     "output_type": "display_data"
    }
   ],
   "source": [
    "@interact.options(manual=True)\n",
    "def greeting(text=\"World\"):\n",
    "    print(\"Hello {}\".format(text))"
   ]
  },
  {
   "cell_type": "code",
   "execution_count": 87,
   "id": "fcbae3bb-ddfa-4407-ac73-15a4d9d58ba3",
   "metadata": {},
   "outputs": [
    {
     "data": {
      "text/plain": [
       "\u001b[0;31mSignature:\u001b[0m      \u001b[0minteract_manual\u001b[0m\u001b[0;34m(\u001b[0m\u001b[0m_InteractFactory__interact_f\u001b[0m\u001b[0;34m=\u001b[0m\u001b[0;32mNone\u001b[0m\u001b[0;34m,\u001b[0m \u001b[0;34m**\u001b[0m\u001b[0mkwargs\u001b[0m\u001b[0;34m)\u001b[0m\u001b[0;34m\u001b[0m\u001b[0;34m\u001b[0m\u001b[0m\n",
       "\u001b[0;31mType:\u001b[0m           _InteractFactory\n",
       "\u001b[0;31mString form:\u001b[0m    <ipywidgets.widgets.interaction._InteractFactory object at 0x7f5af7753790>\n",
       "\u001b[0;31mFile:\u001b[0m           ~/Uni/HiWi/landscapes/.venv/lib/python3.9/site-packages/ipywidgets/widgets/interaction.py\n",
       "\u001b[0;31mDocstring:\u001b[0m     \n",
       "Factory for instances of :class:`interactive`.\n",
       "\n",
       "This class is needed to support options like::\n",
       "\n",
       "    >>> @interact.options(manual=True)\n",
       "    ... def greeting(text=\"World\"):\n",
       "    ...     print(\"Hello {}\".format(text))\n",
       "\n",
       "Parameters\n",
       "----------\n",
       "cls : class\n",
       "    The subclass of :class:`interactive` to construct.\n",
       "options : dict\n",
       "    A dict of options used to construct the interactive\n",
       "    function. By default, this is returned by\n",
       "    ``cls.default_options()``.\n",
       "kwargs : dict\n",
       "    A dict of **kwargs to use for widgets.\n",
       "\u001b[0;31mCall docstring:\u001b[0m\n",
       "Make the given function interactive by adding and displaying\n",
       "the corresponding :class:`interactive` widget.\n",
       "\n",
       "Expects the first argument to be a function. Parameters to this\n",
       "function are widget abbreviations passed in as keyword arguments\n",
       "(``**kwargs``). Can be used as a decorator (see examples).\n",
       "\n",
       "Returns\n",
       "-------\n",
       "f : __interact_f with interactive widget attached to it.\n",
       "\n",
       "Parameters\n",
       "----------\n",
       "__interact_f : function\n",
       "    The function to which the interactive widgets are tied. The `**kwargs`\n",
       "    should match the function signature. Passed to :func:`interactive()`\n",
       "**kwargs : various, optional\n",
       "    An interactive widget is created for each keyword argument that is a\n",
       "    valid widget abbreviation. Passed to :func:`interactive()`\n",
       "\n",
       "Examples\n",
       "--------\n",
       "Render an interactive text field that shows the greeting with the passed in\n",
       "text::\n",
       "\n",
       "    # 1. Using interact as a function\n",
       "    def greeting(text=\"World\"):\n",
       "        print(\"Hello {}\".format(text))\n",
       "    interact(greeting, text=\"IPython Widgets\")\n",
       "\n",
       "    # 2. Using interact as a decorator\n",
       "    @interact\n",
       "    def greeting(text=\"World\"):\n",
       "        print(\"Hello {}\".format(text))\n",
       "\n",
       "    # 3. Using interact as a decorator with named parameters\n",
       "    @interact(text=\"IPython Widgets\")\n",
       "    def greeting(text=\"World\"):\n",
       "        print(\"Hello {}\".format(text))\n",
       "\n",
       "Render an interactive slider widget and prints square of number::\n",
       "\n",
       "    # 1. Using interact as a function\n",
       "    def square(num=1):\n",
       "        print(\"{} squared is {}\".format(num, num*num))\n",
       "    interact(square, num=5)\n",
       "\n",
       "    # 2. Using interact as a decorator\n",
       "    @interact\n",
       "    def square(num=2):\n",
       "        print(\"{} squared is {}\".format(num, num*num))\n",
       "\n",
       "    # 3. Using interact as a decorator with named parameters\n",
       "    @interact(num=5)\n",
       "    def square(num=2):\n",
       "        print(\"{} squared is {}\".format(num, num*num))\n"
      ]
     },
     "metadata": {},
     "output_type": "display_data"
    }
   ],
   "source": [
    "interact_manual?"
   ]
  },
  {
   "cell_type": "code",
   "execution_count": null,
   "id": "33a3ca06-5395-4bd6-ad71-b2b769f58da2",
   "metadata": {},
   "outputs": [],
   "source": []
  },
  {
   "cell_type": "code",
   "execution_count": null,
   "id": "75d7fe6a-782b-4e8f-9f8c-20c9198a22b5",
   "metadata": {},
   "outputs": [],
   "source": []
  },
  {
   "cell_type": "code",
   "execution_count": 27,
   "id": "2499a0da-bb09-4cef-b4f3-5415e9e02bca",
   "metadata": {},
   "outputs": [
    {
     "data": {
      "text/plain": [
       "20.832265529750277"
      ]
     },
     "execution_count": 27,
     "metadata": {},
     "output_type": "execute_result"
    }
   ],
   "source": [
    "np.dot(w, r2)"
   ]
  },
  {
   "cell_type": "code",
   "execution_count": 29,
   "id": "2516b47f-e9ce-4284-8a93-67e5a35c5e6c",
   "metadata": {},
   "outputs": [
    {
     "data": {
      "text/plain": [
       "7071.267"
      ]
     },
     "execution_count": 29,
     "metadata": {},
     "output_type": "execute_result"
    }
   ],
   "source": [
    "np.linalg.norm(w, ord=1)"
   ]
  },
  {
   "cell_type": "code",
   "execution_count": 31,
   "id": "5482f422-0b0d-4976-93d1-425be0003d58",
   "metadata": {},
   "outputs": [
    {
     "data": {
      "text/plain": [
       "50879.29091725648"
      ]
     },
     "execution_count": 31,
     "metadata": {},
     "output_type": "execute_result"
    }
   ],
   "source": [
    "np.linalg.norm(r2, ord=1)"
   ]
  },
  {
   "cell_type": "code",
   "execution_count": 32,
   "id": "afd2d3b7-3af0-41ec-954e-05aa5dd6b6f6",
   "metadata": {},
   "outputs": [
    {
     "data": {
      "text/plain": [
       "101770"
      ]
     },
     "execution_count": 32,
     "metadata": {},
     "output_type": "execute_result"
    }
   ],
   "source": [
    "len(r1)"
   ]
  },
  {
   "cell_type": "code",
   "execution_count": 18,
   "id": "85f5b57a-a42f-45e0-81f1-0693b26ef660",
   "metadata": {},
   "outputs": [],
   "source": [
    "r1 = get_random_weights()\n",
    "r2 = get_random_weights()"
   ]
  },
  {
   "cell_type": "code",
   "execution_count": 51,
   "id": "d79a7df0-6e7c-49f9-925f-b66ce3816723",
   "metadata": {},
   "outputs": [
    {
     "data": {
      "text/plain": [
       "[array([[-0.16888298, -0.87614519, -0.27124788, ...,  0.00569111,\n",
       "          0.51903026, -0.96267681],\n",
       "        [ 0.45234553,  0.79868451, -0.6507519 , ...,  0.90655505,\n",
       "          0.49706323, -0.09863212],\n",
       "        [ 0.99237552,  0.71506418, -0.11517515, ..., -0.05505343,\n",
       "         -0.86718021,  0.20924428],\n",
       "        ...,\n",
       "        [ 0.29463461, -0.7255769 , -0.79833826, ...,  0.08187646,\n",
       "          0.83062404,  0.87307578],\n",
       "        [-0.16745735, -0.69216449,  0.01854408, ..., -0.64844049,\n",
       "         -0.48972144,  0.30728545],\n",
       "        [-0.1835336 ,  0.05506204,  0.70786078, ...,  0.76778835,\n",
       "          0.67777739,  0.00186396]]),\n",
       " array([-1.74393452e-02,  6.77348943e-01,  1.72931103e-02,  1.79366138e-04,\n",
       "        -5.14494830e-02, -5.99715980e-01,  6.47264210e-01,  7.45091563e-01,\n",
       "         9.20268165e-01, -3.06257011e-01,  3.02711110e-02,  9.23116132e-01,\n",
       "        -3.94458577e-01, -7.19334387e-01,  7.02106282e-01, -2.84123864e-01,\n",
       "         6.40538133e-02,  6.79821486e-01, -1.93757603e-01,  2.70759730e-01,\n",
       "         5.29038138e-01, -8.64286084e-01, -2.08747254e-01, -4.79301300e-01,\n",
       "        -7.01990114e-01, -6.88393420e-01, -6.45055806e-01,  5.64386110e-03,\n",
       "        -8.78489921e-03,  3.78082164e-01,  3.58605585e-01, -2.62543071e-01,\n",
       "        -1.19130826e-01, -1.87550597e-01,  8.52787395e-01, -2.48763279e-01,\n",
       "        -9.52578646e-02,  8.17001213e-01,  4.88176338e-01,  1.52508219e-01,\n",
       "        -3.83358948e-01, -4.13329382e-01,  3.80063551e-01,  1.00548455e-01,\n",
       "        -3.47053011e-01,  1.71157006e-01,  6.92352819e-01, -9.54258374e-01,\n",
       "         5.71630682e-01,  7.47218460e-01,  3.73917284e-01,  7.59983899e-01,\n",
       "        -5.51550673e-02, -2.36647617e-01,  5.83966038e-01, -6.76327360e-01,\n",
       "         1.25240455e-01, -8.06118182e-01, -2.09879168e-01,  8.64955272e-01,\n",
       "        -9.15892490e-01,  6.37078403e-01, -5.86176406e-01,  9.19018255e-01,\n",
       "         8.62851766e-01,  4.98295867e-01,  1.00431659e-01, -3.50537392e-03,\n",
       "         6.18013440e-01,  6.51558986e-01, -6.60958628e-01, -7.28155806e-01,\n",
       "         8.97183929e-01, -6.40208448e-01,  7.05666863e-01, -4.66580200e-01,\n",
       "         5.24172955e-01,  7.67446180e-01, -3.99090267e-01,  5.61145369e-01,\n",
       "        -6.42929125e-02,  2.97454674e-01, -8.77334500e-02, -6.19817425e-01,\n",
       "         8.77297532e-01, -6.09690744e-01,  3.25620987e-01, -2.56802251e-02,\n",
       "        -3.59201983e-01,  8.14269253e-01,  4.82478003e-01, -3.13981189e-01,\n",
       "        -7.74175306e-01, -5.61446318e-01,  3.14996258e-01, -2.34846461e-01,\n",
       "         1.58139312e-01, -8.64507996e-01,  8.05376958e-01,  7.85095737e-01,\n",
       "        -7.87151496e-01, -9.20503731e-01,  7.21552434e-01, -6.22158560e-02,\n",
       "        -8.47332823e-01, -7.00168568e-01,  3.85455997e-01,  4.88090954e-01,\n",
       "         2.79278158e-01, -5.68231120e-01, -2.45486802e-01,  4.83492873e-01,\n",
       "         4.05536571e-01,  4.05201475e-01,  6.82584708e-01,  2.49885820e-01,\n",
       "        -1.51377002e-01, -3.86512605e-01,  3.85616349e-01,  9.42036422e-01,\n",
       "         6.78962501e-01,  6.48968528e-01,  4.55862942e-01, -7.32435136e-01,\n",
       "        -2.98115298e-01, -6.65357928e-01, -1.75634186e-01, -4.43849513e-01]),\n",
       " array([[-0.17512095,  0.33462616, -0.11825166, ...,  0.34412388,\n",
       "          0.66788951,  0.62225535],\n",
       "        [-0.99501155, -0.68824114, -0.42909362, ..., -0.78809143,\n",
       "          0.53926766, -0.34400314],\n",
       "        [ 0.49834627,  0.01639602, -0.97903763, ..., -0.55938139,\n",
       "          0.48388857, -0.24896119],\n",
       "        ...,\n",
       "        [ 0.71140593, -0.87889903, -0.52290397, ..., -0.43556843,\n",
       "         -0.66157495,  0.3196237 ],\n",
       "        [-0.27722158,  0.49940589,  0.68534639, ...,  0.7006532 ,\n",
       "         -0.66290246, -0.7744429 ],\n",
       "        [-0.19049035,  0.48783784, -0.17936352, ...,  0.26814318,\n",
       "          0.65061149, -0.4204512 ]]),\n",
       " array([ 0.11013727,  0.77279328,  0.62140876,  0.36487807, -0.35377663,\n",
       "        -0.11052451,  0.41412669, -0.76668073,  0.72164071, -0.17390858])]"
      ]
     },
     "execution_count": 51,
     "metadata": {},
     "output_type": "execute_result"
    }
   ],
   "source": [
    "w"
   ]
  },
  {
   "cell_type": "code",
   "execution_count": 43,
   "id": "53b6e91f-d929-465b-8c6f-06a505e70455",
   "metadata": {},
   "outputs": [
    {
     "data": {
      "text/plain": [
       "[array([[-0.16888298, -0.87614519, -0.27124788, ...,  0.00569111,\n",
       "          0.51903026, -0.96267681],\n",
       "        [ 0.45234553,  0.79868451, -0.6507519 , ...,  0.90655505,\n",
       "          0.49706323, -0.09863212],\n",
       "        [ 0.99237552,  0.71506418, -0.11517515, ..., -0.05505343,\n",
       "         -0.86718021,  0.20924428],\n",
       "        ...,\n",
       "        [ 0.29463461, -0.7255769 , -0.79833826, ...,  0.08187646,\n",
       "          0.83062404,  0.87307578],\n",
       "        [-0.16745735, -0.69216449,  0.01854408, ..., -0.64844049,\n",
       "         -0.48972144,  0.30728545],\n",
       "        [-0.1835336 ,  0.05506204,  0.70786078, ...,  0.76778835,\n",
       "          0.67777739,  0.00186396]]),\n",
       " array([-1.74393452e-02,  6.77348943e-01,  1.72931103e-02,  1.79366138e-04,\n",
       "        -5.14494830e-02, -5.99715980e-01,  6.47264210e-01,  7.45091563e-01,\n",
       "         9.20268165e-01, -3.06257011e-01,  3.02711110e-02,  9.23116132e-01,\n",
       "        -3.94458577e-01, -7.19334387e-01,  7.02106282e-01, -2.84123864e-01,\n",
       "         6.40538133e-02,  6.79821486e-01, -1.93757603e-01,  2.70759730e-01,\n",
       "         5.29038138e-01, -8.64286084e-01, -2.08747254e-01, -4.79301300e-01,\n",
       "        -7.01990114e-01, -6.88393420e-01, -6.45055806e-01,  5.64386110e-03,\n",
       "        -8.78489921e-03,  3.78082164e-01,  3.58605585e-01, -2.62543071e-01,\n",
       "        -1.19130826e-01, -1.87550597e-01,  8.52787395e-01, -2.48763279e-01,\n",
       "        -9.52578646e-02,  8.17001213e-01,  4.88176338e-01,  1.52508219e-01,\n",
       "        -3.83358948e-01, -4.13329382e-01,  3.80063551e-01,  1.00548455e-01,\n",
       "        -3.47053011e-01,  1.71157006e-01,  6.92352819e-01, -9.54258374e-01,\n",
       "         5.71630682e-01,  7.47218460e-01,  3.73917284e-01,  7.59983899e-01,\n",
       "        -5.51550673e-02, -2.36647617e-01,  5.83966038e-01, -6.76327360e-01,\n",
       "         1.25240455e-01, -8.06118182e-01, -2.09879168e-01,  8.64955272e-01,\n",
       "        -9.15892490e-01,  6.37078403e-01, -5.86176406e-01,  9.19018255e-01,\n",
       "         8.62851766e-01,  4.98295867e-01,  1.00431659e-01, -3.50537392e-03,\n",
       "         6.18013440e-01,  6.51558986e-01, -6.60958628e-01, -7.28155806e-01,\n",
       "         8.97183929e-01, -6.40208448e-01,  7.05666863e-01, -4.66580200e-01,\n",
       "         5.24172955e-01,  7.67446180e-01, -3.99090267e-01,  5.61145369e-01,\n",
       "        -6.42929125e-02,  2.97454674e-01, -8.77334500e-02, -6.19817425e-01,\n",
       "         8.77297532e-01, -6.09690744e-01,  3.25620987e-01, -2.56802251e-02,\n",
       "        -3.59201983e-01,  8.14269253e-01,  4.82478003e-01, -3.13981189e-01,\n",
       "        -7.74175306e-01, -5.61446318e-01,  3.14996258e-01, -2.34846461e-01,\n",
       "         1.58139312e-01, -8.64507996e-01,  8.05376958e-01,  7.85095737e-01,\n",
       "        -7.87151496e-01, -9.20503731e-01,  7.21552434e-01, -6.22158560e-02,\n",
       "        -8.47332823e-01, -7.00168568e-01,  3.85455997e-01,  4.88090954e-01,\n",
       "         2.79278158e-01, -5.68231120e-01, -2.45486802e-01,  4.83492873e-01,\n",
       "         4.05536571e-01,  4.05201475e-01,  6.82584708e-01,  2.49885820e-01,\n",
       "        -1.51377002e-01, -3.86512605e-01,  3.85616349e-01,  9.42036422e-01,\n",
       "         6.78962501e-01,  6.48968528e-01,  4.55862942e-01, -7.32435136e-01,\n",
       "        -2.98115298e-01, -6.65357928e-01, -1.75634186e-01, -4.43849513e-01]),\n",
       " array([[-0.17512095,  0.33462616, -0.11825166, ...,  0.34412388,\n",
       "          0.66788951,  0.62225535],\n",
       "        [-0.99501155, -0.68824114, -0.42909362, ..., -0.78809143,\n",
       "          0.53926766, -0.34400314],\n",
       "        [ 0.49834627,  0.01639602, -0.97903763, ..., -0.55938139,\n",
       "          0.48388857, -0.24896119],\n",
       "        ...,\n",
       "        [ 0.71140593, -0.87889903, -0.52290397, ..., -0.43556843,\n",
       "         -0.66157495,  0.3196237 ],\n",
       "        [-0.27722158,  0.49940589,  0.68534639, ...,  0.7006532 ,\n",
       "         -0.66290246, -0.7744429 ],\n",
       "        [-0.19049035,  0.48783784, -0.17936352, ...,  0.26814318,\n",
       "          0.65061149, -0.4204512 ]]),\n",
       " array([ 0.11013727,  0.77279328,  0.62140876,  0.36487807, -0.35377663,\n",
       "        -0.11052451,  0.41412669, -0.76668073,  0.72164071, -0.17390858])]"
      ]
     },
     "execution_count": 43,
     "metadata": {},
     "output_type": "execute_result"
    }
   ],
   "source": [
    "r1"
   ]
  },
  {
   "cell_type": "code",
   "execution_count": null,
   "id": "322f6f65-8849-4784-8cf3-06a4fdde6c83",
   "metadata": {},
   "outputs": [],
   "source": []
  },
  {
   "cell_type": "code",
   "execution_count": null,
   "id": "be4c0717-5df9-4988-a898-8c2b7b371aa2",
   "metadata": {},
   "outputs": [],
   "source": []
  },
  {
   "cell_type": "code",
   "execution_count": null,
   "id": "a88b0810-4019-467b-8706-5c719a1c8eb2",
   "metadata": {},
   "outputs": [],
   "source": []
  },
  {
   "cell_type": "code",
   "execution_count": 19,
   "id": "82645673-959a-46c0-a9c4-79af30a9eb9c",
   "metadata": {},
   "outputs": [
    {
     "ename": "ValueError",
     "evalue": "setting an array element with a sequence.",
     "output_type": "error",
     "traceback": [
      "\u001b[0;31m---------------------------------------------------------------------------\u001b[0m",
      "\u001b[0;31mTypeError\u001b[0m                                 Traceback (most recent call last)",
      "\u001b[0;31mTypeError\u001b[0m: only size-1 arrays can be converted to Python scalars",
      "\nThe above exception was the direct cause of the following exception:\n",
      "\u001b[0;31mValueError\u001b[0m                                Traceback (most recent call last)",
      "\u001b[0;32m/tmp/ipykernel_1536/3368897880.py\u001b[0m in \u001b[0;36m<module>\u001b[0;34m\u001b[0m\n\u001b[0;32m----> 1\u001b[0;31m \u001b[0mnp\u001b[0m\u001b[0;34m.\u001b[0m\u001b[0mdot\u001b[0m\u001b[0;34m(\u001b[0m\u001b[0mr1\u001b[0m\u001b[0;34m,\u001b[0m \u001b[0mr2\u001b[0m\u001b[0;34m)\u001b[0m\u001b[0;34m\u001b[0m\u001b[0;34m\u001b[0m\u001b[0m\n\u001b[0m",
      "\u001b[0;32m<__array_function__ internals>\u001b[0m in \u001b[0;36mdot\u001b[0;34m(*args, **kwargs)\u001b[0m\n",
      "\u001b[0;31mValueError\u001b[0m: setting an array element with a sequence."
     ]
    }
   ],
   "source": [
    "np.dot(r1, r2)"
   ]
  },
  {
   "cell_type": "code",
   "execution_count": null,
   "id": "f89d1fd4-0ce3-41da-bb4c-9ca5d5ed5ba5",
   "metadata": {},
   "outputs": [],
   "source": []
  },
  {
   "cell_type": "code",
   "execution_count": null,
   "id": "3423a390-27df-4055-a879-cf78066d31e8",
   "metadata": {},
   "outputs": [],
   "source": []
  },
  {
   "cell_type": "code",
   "execution_count": 9,
   "id": "40bbeab0-a0e3-45cc-92ba-9fb423864584",
   "metadata": {},
   "outputs": [
    {
     "data": {
      "text/plain": [
       "<PrefetchDataset shapes: ((None, 28, 28, 1), (None,)), types: (tf.float32, tf.int64)>"
      ]
     },
     "execution_count": 9,
     "metadata": {},
     "output_type": "execute_result"
    }
   ],
   "source": [
    "ds_train"
   ]
  },
  {
   "cell_type": "code",
   "execution_count": 10,
   "id": "54523edf-4548-4276-8b44-7a48b9034cb9",
   "metadata": {},
   "outputs": [],
   "source": [
    "ex = ds_train.take(1)"
   ]
  },
  {
   "cell_type": "code",
   "execution_count": 13,
   "id": "3e14ebf4-6f5e-466b-a342-bc0f62881a24",
   "metadata": {},
   "outputs": [],
   "source": [
    "e = next(iter(ex))"
   ]
  },
  {
   "cell_type": "code",
   "execution_count": 19,
   "id": "d05a954b-5017-4d12-93f1-fdc0348acfd2",
   "metadata": {},
   "outputs": [],
   "source": [
    "im = e[0]"
   ]
  },
  {
   "cell_type": "code",
   "execution_count": 21,
   "id": "79ac7378-8dff-47da-800c-a18ac87e0229",
   "metadata": {},
   "outputs": [],
   "source": [
    "i = im[0]"
   ]
  },
  {
   "cell_type": "code",
   "execution_count": 22,
   "id": "20a7eb90-926d-4c2b-b198-a16a4f8a8df1",
   "metadata": {},
   "outputs": [
    {
     "data": {
      "text/plain": [
       "<matplotlib.image.AxesImage at 0x7f5043f9e550>"
      ]
     },
     "execution_count": 22,
     "metadata": {},
     "output_type": "execute_result"
    },
    {
     "data": {
      "image/png": "[encoded data removed]",
      "text/plain": [
       "<Figure size 1200x800 with 1 Axes>"
      ]
     },
     "metadata": {
      "needs_background": "light"
     },
     "output_type": "display_data"
    }
   ],
   "source": [
    "plt.imshow(i)"
   ]
  },
  {
   "cell_type": "code",
   "execution_count": 23,
   "id": "4fab3989-1f8f-4a53-809d-95ba29b3e0c0",
   "metadata": {},
   "outputs": [
    {
     "data": {
      "text/plain": [
       "<tf.Tensor: shape=(), dtype=int64, numpy=4>"
      ]
     },
     "execution_count": 23,
     "metadata": {},
     "output_type": "execute_result"
    }
   ],
   "source": [
    "e[1][0]"
   ]
  },
  {
   "cell_type": "code",
   "execution_count": 27,
   "id": "a83ea73c-f4e0-48d7-8e28-9a360c08c280",
   "metadata": {},
   "outputs": [],
   "source": [
    "p = model.predict(im)"
   ]
  },
  {
   "cell_type": "code",
   "execution_count": 28,
   "id": "f06a9fbd-50e9-4da6-a4f3-6e155d9c4f4b",
   "metadata": {},
   "outputs": [
    {
     "data": {
      "text/plain": [
       "(128, 10)"
      ]
     },
     "execution_count": 28,
     "metadata": {},
     "output_type": "execute_result"
    }
   ],
   "source": [
    "p.shape"
   ]
  },
  {
   "cell_type": "code",
   "execution_count": 29,
   "id": "4560316f-0b7d-4702-98d9-a520749447fb",
   "metadata": {},
   "outputs": [],
   "source": [
    "t = p[0]"
   ]
  },
  {
   "cell_type": "code",
   "execution_count": 31,
   "id": "cc996752-fdc0-4bc9-9159-38f73b59e55d",
   "metadata": {},
   "outputs": [
    {
     "data": {
      "text/plain": [
       "4"
      ]
     },
     "execution_count": 31,
     "metadata": {},
     "output_type": "execute_result"
    }
   ],
   "source": [
    "np.argmax(t)"
   ]
  },
  {
   "cell_type": "code",
   "execution_count": 34,
   "id": "a6184870-9321-4f11-a92c-9ad9c6f20769",
   "metadata": {},
   "outputs": [],
   "source": [
    "sm = tf.keras.layers.Softmax()"
   ]
  },
  {
   "cell_type": "code",
   "execution_count": 38,
   "id": "6f834d64-d000-47dc-8dd9-72509c28cca8",
   "metadata": {},
   "outputs": [],
   "source": [
    "meins = sm(model.output)"
   ]
  },
  {
   "cell_type": "code",
   "execution_count": 42,
   "id": "b0073cf6-f2c3-4259-8396-4409e04d2492",
   "metadata": {},
   "outputs": [],
   "source": [
    "mm = tf.keras.Model(inputs=model.input, outputs=meins)"
   ]
  },
  {
   "cell_type": "code",
   "execution_count": 43,
   "id": "2027d76b-ac1b-4ee9-9e61-35e748da3a85",
   "metadata": {},
   "outputs": [
    {
     "data": {
      "text/plain": [
       "<tf.Tensor: shape=(128, 10), dtype=float32, numpy=\n",
       "array([[5.1425718e-06, 1.8319575e-02, 4.3463577e-05, ..., 1.6005764e-04,\n",
       "        5.1142083e-04, 1.1169482e-03],\n",
       "       [6.0048421e-07, 9.9865013e-01, 2.4196643e-05, ..., 1.2614659e-03,\n",
       "        2.1656619e-05, 5.9581607e-06],\n",
       "       [9.9965322e-01, 5.5898077e-09, 1.2982838e-05, ..., 4.2144457e-09,\n",
       "        8.1180195e-07, 7.5386487e-07],\n",
       "       ...,\n",
       "       [3.3447355e-07, 1.1130666e-04, 4.6524225e-04, ..., 9.9824047e-01,\n",
       "        8.1167163e-06, 2.6101721e-05],\n",
       "       [1.3311543e-08, 1.2039908e-08, 1.6086922e-06, ..., 2.3125762e-10,\n",
       "        1.9370203e-09, 2.4098492e-11],\n",
       "       [4.9667369e-06, 9.9968541e-01, 1.1704471e-04, ..., 3.2323846e-05,\n",
       "        1.4163707e-04, 2.5566596e-06]], dtype=float32)>"
      ]
     },
     "execution_count": 43,
     "metadata": {},
     "output_type": "execute_result"
    }
   ],
   "source": [
    "mm(im)"
   ]
  },
  {
   "cell_type": "code",
   "execution_count": 57,
   "id": "efaf31ae-3927-47e2-b676-7c1eb268c393",
   "metadata": {},
   "outputs": [
    {
     "data": {
      "application/vnd.jupyter.widget-view+json": {
       "model_id": "bd8ae4228bc04a21a2c93b9e57ab470e",
       "version_major": 2,
       "version_minor": 0
      },
      "text/plain": [
       "interactive(children=(IntSlider(value=0, description='i', max=127), Output()), _dom_classes=('widget-interact'…"
      ]
     },
     "metadata": {},
     "output_type": "display_data"
    }
   ],
   "source": [
    "@interact(i=(0,127))\n",
    "def mm_plot(i = 0):\n",
    "    fig, ax = plt.subplots(ncols=2)\n",
    "    ax[0].imshow(im[i])\n",
    "    ax[1].bar(range(1,11), Out[43][i])\n",
    "    ax[1].set_xticks(range(1,11))"
   ]
  },
  {
   "cell_type": "code",
   "execution_count": 58,
   "id": "8aaabb2c-b765-4993-aa09-1ef8163a6bff",
   "metadata": {},
   "outputs": [
    {
     "data": {
      "text/plain": [
       "[<tf.Variable 'dense_2/kernel:0' shape=(784, 128) dtype=float32, numpy=\n",
       " array([[-0.0784678 , -0.01035945, -0.02908415, ...,  0.07686088,\n",
       "         -0.00490943, -0.03702372],\n",
       "        [ 0.06863401,  0.05573548, -0.06102663, ...,  0.04181542,\n",
       "         -0.06183247, -0.03855152],\n",
       "        [-0.03764753, -0.03659715,  0.04771172, ..., -0.0458688 ,\n",
       "          0.04726813,  0.0792697 ],\n",
       "        ...,\n",
       "        [-0.00989278, -0.05006088,  0.03803635, ..., -0.02156168,\n",
       "         -0.07235549,  0.00897661],\n",
       "        [ 0.06179593, -0.04707681,  0.04510636, ..., -0.01048132,\n",
       "         -0.05490205, -0.00229399],\n",
       "        [ 0.01904713, -0.07873177, -0.04064336, ...,  0.06929254,\n",
       "          0.06509268,  0.03284328]], dtype=float32)>,\n",
       " <tf.Variable 'dense_2/bias:0' shape=(128,) dtype=float32, numpy=\n",
       " array([ 0.02706814,  0.14346655,  0.08292618, -0.00993588, -0.1123052 ,\n",
       "        -0.04154807,  0.01522012, -0.00757664, -0.01427385,  0.12775674,\n",
       "         0.14880957, -0.00577279,  0.00452142, -0.02732761, -0.03835348,\n",
       "         0.03927573, -0.07086158,  0.03349281,  0.02749039,  0.05287187,\n",
       "        -0.01867294,  0.0147923 ,  0.08817869, -0.01489372, -0.02885315,\n",
       "        -0.02249729,  0.01797145, -0.09487804, -0.09063981,  0.03553819,\n",
       "        -0.02416595,  0.10464845,  0.01483513, -0.0411917 , -0.04198503,\n",
       "         0.02295233,  0.04679946, -0.0271549 ,  0.05402103, -0.02613223,\n",
       "         0.07681602,  0.06364878,  0.08845711, -0.02496768,  0.14518532,\n",
       "         0.02812389,  0.07815067,  0.02417488, -0.01790262,  0.03401661,\n",
       "         0.07073385,  0.00934586, -0.04788719,  0.08738559, -0.01809091,\n",
       "        -0.04062146,  0.15263997, -0.09881956,  0.09164584,  0.03891512,\n",
       "        -0.03410216,  0.0117062 ,  0.0212828 ,  0.0036826 ,  0.06577655,\n",
       "         0.00552292, -0.05303596,  0.06791972,  0.03331709,  0.1842696 ,\n",
       "        -0.02151879, -0.06018643,  0.00250615, -0.07052412,  0.09009813,\n",
       "         0.09363627,  0.07430625,  0.05553952,  0.08962291,  0.11691276,\n",
       "        -0.00966749,  0.04176512, -0.01992066, -0.03524355, -0.04635409,\n",
       "         0.07985663,  0.06220444,  0.06439314, -0.0790325 ,  0.0853098 ,\n",
       "         0.11026229,  0.08136331, -0.07026096, -0.00165134,  0.02298324,\n",
       "        -0.00317555,  0.01535792,  0.01847402,  0.07225427, -0.12265522,\n",
       "        -0.04807569, -0.04104498,  0.00747086, -0.03961847, -0.01846983,\n",
       "         0.09418248,  0.04679227, -0.04184508,  0.10007085,  0.10836962,\n",
       "         0.05526846, -0.03392139,  0.05325929, -0.02266472,  0.18044738,\n",
       "         0.05641066, -0.00733259, -0.05756859, -0.00206168, -0.00745977,\n",
       "         0.0359397 , -0.00138196,  0.06218941, -0.0083147 , -0.05201793,\n",
       "         0.10254408, -0.02606091,  0.05459316], dtype=float32)>,\n",
       " <tf.Variable 'dense_3/kernel:0' shape=(128, 10) dtype=float32, numpy=\n",
       " array([[-0.2800452 , -0.45607862, -0.5852915 , ..., -0.2978811 ,\n",
       "         -0.08720881,  0.18275933],\n",
       "        [ 0.21554713,  0.30572212, -0.04436678, ...,  0.37340102,\n",
       "         -0.5701308 , -0.27246353],\n",
       "        [-0.08208806, -0.04532731, -0.00139727, ...,  0.32045916,\n",
       "         -0.39238325,  0.23645234],\n",
       "        ...,\n",
       "        [ 0.15960383,  0.10285383, -0.5648088 , ...,  0.14942156,\n",
       "          0.09078348, -0.3177965 ],\n",
       "        [ 0.04734449,  0.04961934, -0.05743317, ...,  0.18878156,\n",
       "          0.07161169, -0.13008231],\n",
       "        [ 0.17068462,  0.09555578,  0.24544285, ...,  0.26541743,\n",
       "         -0.20741634,  0.21241078]], dtype=float32)>,\n",
       " <tf.Variable 'dense_3/bias:0' shape=(10,) dtype=float32, numpy=\n",
       " array([-0.0873166 ,  0.02028604,  0.06479792, -0.08475411,  0.0106867 ,\n",
       "         0.09173401, -0.03094307,  0.02490304,  0.02323703, -0.05838479],\n",
       "       dtype=float32)>]"
      ]
     },
     "execution_count": 58,
     "metadata": {},
     "output_type": "execute_result"
    }
   ],
   "source": [
    "model.weights"
   ]
  },
  {
   "cell_type": "code",
   "execution_count": 61,
   "id": "f3f85eca-4c6e-448c-8cee-c264934b2ad4",
   "metadata": {},
   "outputs": [],
   "source": [
    "a = tf.ones((2,2))"
   ]
  },
  {
   "cell_type": "code",
   "execution_count": 63,
   "id": "0350507a-4d00-4650-91b7-48b8b5ef677c",
   "metadata": {},
   "outputs": [],
   "source": [
    "b = a+a"
   ]
  },
  {
   "cell_type": "code",
   "execution_count": 74,
   "id": "67f6f23f-a113-44b1-b10e-f264a74db26b",
   "metadata": {},
   "outputs": [],
   "source": [
    "c = b + tf.eye(2)"
   ]
  },
  {
   "cell_type": "code",
   "execution_count": 75,
   "id": "9facd858-fabe-4aba-a96f-f5e58b1bd2c9",
   "metadata": {},
   "outputs": [
    {
     "data": {
      "text/plain": [
       "<tf.Tensor: shape=(2, 2), dtype=float32, numpy=\n",
       "array([[3., 2.],\n",
       "       [2., 3.]], dtype=float32)>"
      ]
     },
     "execution_count": 75,
     "metadata": {},
     "output_type": "execute_result"
    }
   ],
   "source": [
    "c"
   ]
  },
  {
   "cell_type": "code",
   "execution_count": 76,
   "id": "62f8f365-e69b-4b76-807b-7b2b04c7a746",
   "metadata": {},
   "outputs": [
    {
     "data": {
      "text/plain": [
       "<tf.Tensor: shape=(2, 2), dtype=float32, numpy=\n",
       "array([[9., 4.],\n",
       "       [4., 9.]], dtype=float32)>"
      ]
     },
     "execution_count": 76,
     "metadata": {},
     "output_type": "execute_result"
    }
   ],
   "source": [
    "tf.square(c)"
   ]
  },
  {
   "cell_type": "code",
   "execution_count": 60,
   "id": "1bbdc086-3863-4614-9dcf-06471c95fd7f",
   "metadata": {},
   "outputs": [
    {
     "data": {
      "text/plain": [
       "784"
      ]
     },
     "execution_count": 60,
     "metadata": {},
     "output_type": "execute_result"
    }
   ],
   "source": []
  },
  {
   "cell_type": "code",
   "execution_count": null,
   "id": "4b016026-6450-4a1c-ad8d-1329c8d55312",
   "metadata": {},
   "outputs": [],
   "source": []
  },
  {
   "cell_type": "code",
   "execution_count": 100,
   "id": "b7b22895-95bf-411e-baf8-674c3432cb1b",
   "metadata": {},
   "outputs": [
    {
     "data": {
      "application/vnd.jupyter.widget-view+json": {
       "model_id": "e9ce613668494fed92932d535c129c05",
       "version_major": 2,
       "version_minor": 0
      },
      "text/plain": [
       "interactive(children=(FloatSlider(value=5.0, description='w', max=20.0, min=4.0), Output()), _dom_classes=('wi…"
      ]
     },
     "metadata": {},
     "output_type": "display_data"
    }
   ],
   "source": [
    "@interact(w=(4.0, 20.0))\n",
    "def myplot(w=5.0):\n",
    "    fig, ax = plt.subplots(subplot_kw={\"projection\": \"3d\"})\n",
    "\n",
    "    # Make data.\n",
    "    X = np.arange(-w, w, w/400)\n",
    "    Y = np.arange(-w, w, w/400)\n",
    "    #X = np.arange(-5, 5, 0.25)\n",
    "    #Y = np.arange(-5, 5, 0.25)\n",
    "    X, Y = np.meshgrid(X, Y)\n",
    "    R = np.sqrt(X**2 + Y**2)\n",
    "    Z = np.sin(R)\n",
    "\n",
    "    # Plot the surface.\n",
    "    surf = ax.plot_surface(X, Y, Z, cmap=cm.coolwarm,\n",
    "                           linewidth=0, antialiased=False)\n",
    "\n",
    "    # Customize the z axis.\n",
    "    ax.set_zlim(-1.01, 1.01)\n",
    "    ax.zaxis.set_major_locator(LinearLocator(10))\n",
    "    # A StrMethodFormatter is used automatically\n",
    "    ax.zaxis.set_major_formatter('{x:.02f}')\n",
    "\n",
    "    # Add a color bar which maps values to colors.\n",
    "    fig.colorbar(surf, shrink=0.5, aspect=10)"
   ]
  },
  {
   "cell_type": "code",
   "execution_count": 16,
   "id": "60d75370-71a4-45e9-a045-47ed8e09d3bc",
   "metadata": {},
   "outputs": [
    {
     "data": {
      "text/plain": [
       "\u001b[0;31mSignature:\u001b[0m \u001b[0mfig\u001b[0m\u001b[0;34m.\u001b[0m\u001b[0mcolorbar\u001b[0m\u001b[0;34m(\u001b[0m\u001b[0mmappable\u001b[0m\u001b[0;34m,\u001b[0m \u001b[0mcax\u001b[0m\u001b[0;34m=\u001b[0m\u001b[0;32mNone\u001b[0m\u001b[0;34m,\u001b[0m \u001b[0max\u001b[0m\u001b[0;34m=\u001b[0m\u001b[0;32mNone\u001b[0m\u001b[0;34m,\u001b[0m \u001b[0muse_gridspec\u001b[0m\u001b[0;34m=\u001b[0m\u001b[0;32mTrue\u001b[0m\u001b[0;34m,\u001b[0m \u001b[0;34m**\u001b[0m\u001b[0mkw\u001b[0m\u001b[0;34m)\u001b[0m\u001b[0;34m\u001b[0m\u001b[0;34m\u001b[0m\u001b[0m\n",
       "\u001b[0;31mDocstring:\u001b[0m\n",
       "Add a colorbar to a plot.\n",
       "\n",
       "Parameters\n",
       "----------\n",
       "mappable\n",
       "    The `matplotlib.cm.ScalarMappable` (i.e., `~matplotlib.image.AxesImage`,\n",
       "    `~matplotlib.contour.ContourSet`, etc.) described by this colorbar.\n",
       "    This argument is mandatory for the `.Figure.colorbar` method but optional\n",
       "    for the `.pyplot.colorbar` function, which sets the default to the current\n",
       "    image.\n",
       "\n",
       "    Note that one can create a `.ScalarMappable` \"on-the-fly\" to generate\n",
       "    colorbars not attached to a previously drawn artist, e.g. ::\n",
       "\n",
       "        fig.colorbar(cm.ScalarMappable(norm=norm, cmap=cmap), ax=ax)\n",
       "\n",
       "cax : `~matplotlib.axes.Axes`, optional\n",
       "    Axes into which the colorbar will be drawn.\n",
       "\n",
       "ax : `~matplotlib.axes.Axes`, list of Axes, optional\n",
       "    One or more parent axes from which space for a new colorbar axes will be\n",
       "    stolen, if *cax* is None.  This has no effect if *cax* is set.\n",
       "\n",
       "use_gridspec : bool, optional\n",
       "    If *cax* is ``None``, a new *cax* is created as an instance of Axes.  If\n",
       "    *ax* is an instance of Subplot and *use_gridspec* is ``True``, *cax* is\n",
       "    created as an instance of Subplot using the :mod:`~.gridspec` module.\n",
       "\n",
       "Returns\n",
       "-------\n",
       "colorbar : `~matplotlib.colorbar.Colorbar`\n",
       "    See also its base class, `~matplotlib.colorbar.ColorbarBase`.\n",
       "\n",
       "Notes\n",
       "-----\n",
       "Additional keyword arguments are of two kinds:\n",
       "\n",
       "  axes properties:\n",
       "\n",
       "    location : None or {'left', 'right', 'top', 'bottom'}\n",
       "        The location, relative to the parent axes, where the colorbar axes\n",
       "        is created.  It also determines the *orientation* of the colorbar\n",
       "        (colorbars on the left and right are vertical, colorbars at the top\n",
       "        and bottom are horizontal).  If None, the location will come from the\n",
       "        *orientation* if it is set (vertical colorbars on the right, horizontal\n",
       "        ones at the bottom), or default to 'right' if *orientation* is unset.\n",
       "    orientation : None or {'vertical', 'horizontal'}\n",
       "        The orientation of the colorbar.  It is preferable to set the *location*\n",
       "        of the colorbar, as that also determines the *orientation*; passing\n",
       "        incompatible values for *location* and *orientation* raises an exception.\n",
       "    fraction : float, default: 0.15\n",
       "        Fraction of original axes to use for colorbar.\n",
       "    shrink : float, default: 1.0\n",
       "        Fraction by which to multiply the size of the colorbar.\n",
       "    aspect : float, default: 20\n",
       "        Ratio of long to short dimensions.\n",
       "\n",
       "\n",
       "    pad : float, default: 0.05 if vertical, 0.15 if horizontal\n",
       "        Fraction of original axes between colorbar and new image axes.\n",
       "    anchor : (float, float), optional\n",
       "        The anchor point of the colorbar axes.\n",
       "        Defaults to (0.0, 0.5) if vertical; (0.5, 1.0) if horizontal.\n",
       "    panchor : (float, float), or *False*, optional\n",
       "        The anchor point of the colorbar parent axes. If *False*, the parent\n",
       "        axes' anchor will be unchanged.\n",
       "        Defaults to (1.0, 0.5) if vertical; (0.5, 0.0) if horizontal.\n",
       "\n",
       "  colorbar properties:\n",
       "\n",
       "\n",
       "    ============  ====================================================\n",
       "    Property      Description\n",
       "    ============  ====================================================\n",
       "    *extend*      {'neither', 'both', 'min', 'max'}\n",
       "                  If not 'neither', make pointed end(s) for out-of-\n",
       "                  range values.  These are set for a given colormap\n",
       "                  using the colormap set_under and set_over methods.\n",
       "    *extendfrac*  {*None*, 'auto', length, lengths}\n",
       "                  If set to *None*, both the minimum and maximum\n",
       "                  triangular colorbar extensions with have a length of\n",
       "                  5% of the interior colorbar length (this is the\n",
       "                  default setting). If set to 'auto', makes the\n",
       "                  triangular colorbar extensions the same lengths as\n",
       "                  the interior boxes (when *spacing* is set to\n",
       "                  'uniform') or the same lengths as the respective\n",
       "                  adjacent interior boxes (when *spacing* is set to\n",
       "                  'proportional'). If a scalar, indicates the length\n",
       "                  of both the minimum and maximum triangular colorbar\n",
       "                  extensions as a fraction of the interior colorbar\n",
       "                  length. A two-element sequence of fractions may also\n",
       "                  be given, indicating the lengths of the minimum and\n",
       "                  maximum colorbar extensions respectively as a\n",
       "                  fraction of the interior colorbar length.\n",
       "    *extendrect*  bool\n",
       "                  If *False* the minimum and maximum colorbar extensions\n",
       "                  will be triangular (the default). If *True* the\n",
       "                  extensions will be rectangular.\n",
       "    *spacing*     {'uniform', 'proportional'}\n",
       "                  Uniform spacing gives each discrete color the same\n",
       "                  space; proportional makes the space proportional to\n",
       "                  the data interval.\n",
       "    *ticks*       *None* or list of ticks or Locator\n",
       "                  If None, ticks are determined automatically from the\n",
       "                  input.\n",
       "    *format*      None or str or Formatter\n",
       "                  If None, `~.ticker.ScalarFormatter` is used.\n",
       "                  If a format string is given, e.g., '%.3f', that is used.\n",
       "                  An alternative `~.ticker.Formatter` may be given instead.\n",
       "    *drawedges*   bool\n",
       "                  Whether to draw lines at color boundaries.\n",
       "    *label*       str\n",
       "                  The label on the colorbar's long axis.\n",
       "    ============  ====================================================\n",
       "\n",
       "    The following will probably be useful only in the context of\n",
       "    indexed colors (that is, when the mappable has norm=NoNorm()),\n",
       "    or other unusual circumstances.\n",
       "\n",
       "    ============   ===================================================\n",
       "    Property       Description\n",
       "    ============   ===================================================\n",
       "    *boundaries*   None or a sequence\n",
       "    *values*       None or a sequence which must be of length 1 less\n",
       "                   than the sequence of *boundaries*. For each region\n",
       "                   delimited by adjacent entries in *boundaries*, the\n",
       "                   colormapped to the corresponding value in values\n",
       "                   will be used.\n",
       "    ============   ===================================================\n",
       "\n",
       "\n",
       "\n",
       "If *mappable* is a `~.contour.ContourSet`, its *extend* kwarg is included\n",
       "automatically.\n",
       "\n",
       "The *shrink* kwarg provides a simple way to scale the colorbar with respect\n",
       "to the axes. Note that if *cax* is specified, it determines the size of the\n",
       "colorbar and *shrink* and *aspect* kwargs are ignored.\n",
       "\n",
       "For more precise control, you can manually specify the positions of\n",
       "the axes objects in which the mappable and the colorbar are drawn.  In\n",
       "this case, do not use any of the axes properties kwargs.\n",
       "\n",
       "It is known that some vector graphics viewers (svg and pdf) renders white gaps\n",
       "between segments of the colorbar.  This is due to bugs in the viewers, not\n",
       "Matplotlib.  As a workaround, the colorbar can be rendered with overlapping\n",
       "segments::\n",
       "\n",
       "    cbar = colorbar()\n",
       "    cbar.solids.set_edgecolor(\"face\")\n",
       "    draw()\n",
       "\n",
       "However this has negative consequences in other circumstances, e.g. with\n",
       "semi-transparent images (alpha < 1) and colorbar extensions; therefore, this\n",
       "workaround is not used by default (see issue #1188).\n",
       "\u001b[0;31mFile:\u001b[0m      ~/Uni/HiWi/landscapes/.venv/lib/python3.9/site-packages/matplotlib/figure.py\n",
       "\u001b[0;31mType:\u001b[0m      method\n"
      ]
     },
     "metadata": {},
     "output_type": "display_data"
    }
   ],
   "source": [
    "fig.colorbar?"
   ]
  },
  {
   "cell_type": "code",
   "execution_count": null,
   "id": "153b1667-4169-4759-945b-f6e4e3e26d61",
   "metadata": {},
   "outputs": [],
   "source": []
  }
 ],
 "metadata": {
  "kernelspec": {
   "display_name": "Python 3 (ipykernel)",
   "language": "python",
   "name": "python3"
  },
  "language_info": {
   "codemirror_mode": {
    "name": "ipython",
    "version": 3
   },
   "file_extension": ".py",
   "mimetype": "text/x-python",
   "name": "python",
   "nbconvert_exporter": "python",
   "pygments_lexer": "ipython3",
   "version": "3.9.7"
  }
 },
 "nbformat": 4,
 "nbformat_minor": 5
}
