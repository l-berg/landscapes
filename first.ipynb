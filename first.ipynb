{
 "cells": [
  {
   "cell_type": "code",
   "execution_count": 34,
   "id": "fcbae3bb-ddfa-4407-ac73-15a4d9d58ba3",
   "metadata": {},
   "outputs": [],
   "source": [
    "# was ist mit GPUs, beschleunigung?\n",
    "# random vektoren normalisieren.\n",
    "# wo liegen normale gewichte? durchstoßen wir hier grenzen?\n",
    "# per layer steps\n",
    "# imageNET tiny, CIFAR, fashin-mnist\n",
    "# matrizen loggen\n",
    "# tensorflow timedistributed: wenn optimieren wichtig ist.\n",
    "# wird das schon durch mathematik beschrieben?"
   ]
  },
  {
   "cell_type": "code",
   "execution_count": 1,
   "id": "5e8482ec-017d-4444-a14e-5efcb77c56ca",
   "metadata": {},
   "outputs": [],
   "source": [
    "#%matplotlib inline\n",
    "%matplotlib widget\n",
    "import ipywidgets as widgets\n",
    "from ipywidgets import interact, interact_manual\n",
    "from tqdm.notebook import tqdm\n",
    "import matplotlib.pyplot as plt\n",
    "from matplotlib import cm\n",
    "from matplotlib.ticker import LinearLocator\n",
    "\n",
    "plt.rcParams['figure.dpi'] = 200\n",
    "\n",
    "\n",
    "import numpy as np\n",
    "import tensorflow as tf\n",
    "import tensorflow_datasets as tfds"
   ]
  },
  {
   "cell_type": "code",
   "execution_count": 130,
   "id": "3114277c-8378-4da5-9bb7-3e717103f5fb",
   "metadata": {},
   "outputs": [],
   "source": [
    "ds = tfds.load('mnist', split='train', shuffle_files=True)"
   ]
  },
  {
   "cell_type": "code",
   "execution_count": 2,
   "id": "5dc2edff-e347-4602-91f5-fac61e8b739f",
   "metadata": {},
   "outputs": [
    {
     "name": "stderr",
     "output_type": "stream",
     "text": [
      "2021-11-03 16:13:57.399105: I tensorflow/stream_executor/cuda/cuda_gpu_executor.cc:937] successful NUMA node read from SysFS had negative value (-1), but there must be at least one NUMA node, so returning NUMA node zero\n",
      "2021-11-03 16:13:57.449469: I tensorflow/stream_executor/cuda/cuda_gpu_executor.cc:937] successful NUMA node read from SysFS had negative value (-1), but there must be at least one NUMA node, so returning NUMA node zero\n",
      "2021-11-03 16:13:57.449909: I tensorflow/stream_executor/cuda/cuda_gpu_executor.cc:937] successful NUMA node read from SysFS had negative value (-1), but there must be at least one NUMA node, so returning NUMA node zero\n",
      "2021-11-03 16:13:57.451846: I tensorflow/core/platform/cpu_feature_guard.cc:142] This TensorFlow binary is optimized with oneAPI Deep Neural Network Library (oneDNN) to use the following CPU instructions in performance-critical operations:  AVX2 FMA\n",
      "To enable them in other operations, rebuild TensorFlow with the appropriate compiler flags.\n",
      "2021-11-03 16:13:57.452767: I tensorflow/stream_executor/cuda/cuda_gpu_executor.cc:937] successful NUMA node read from SysFS had negative value (-1), but there must be at least one NUMA node, so returning NUMA node zero\n",
      "2021-11-03 16:13:57.453170: I tensorflow/stream_executor/cuda/cuda_gpu_executor.cc:937] successful NUMA node read from SysFS had negative value (-1), but there must be at least one NUMA node, so returning NUMA node zero\n",
      "2021-11-03 16:13:57.453540: I tensorflow/stream_executor/cuda/cuda_gpu_executor.cc:937] successful NUMA node read from SysFS had negative value (-1), but there must be at least one NUMA node, so returning NUMA node zero\n",
      "2021-11-03 16:13:58.437738: I tensorflow/stream_executor/cuda/cuda_gpu_executor.cc:937] successful NUMA node read from SysFS had negative value (-1), but there must be at least one NUMA node, so returning NUMA node zero\n",
      "2021-11-03 16:13:58.438017: I tensorflow/stream_executor/cuda/cuda_gpu_executor.cc:937] successful NUMA node read from SysFS had negative value (-1), but there must be at least one NUMA node, so returning NUMA node zero\n",
      "2021-11-03 16:13:58.438260: I tensorflow/stream_executor/cuda/cuda_gpu_executor.cc:937] successful NUMA node read from SysFS had negative value (-1), but there must be at least one NUMA node, so returning NUMA node zero\n",
      "2021-11-03 16:13:58.439214: I tensorflow/core/common_runtime/gpu/gpu_device.cc:1510] Created device /job:localhost/replica:0/task:0/device:GPU:0 with 4419 MB memory:  -> device: 0, name: NVIDIA GeForce GTX 1660 Ti, pci bus id: 0000:01:00.0, compute capability: 7.5\n"
     ]
    }
   ],
   "source": [
    "(ds_train, ds_test), ds_info = tfds.load(\n",
    "    'mnist',\n",
    "    split=['train', 'test'],\n",
    "    shuffle_files=True,\n",
    "    as_supervised=True,\n",
    "    with_info=True,\n",
    ")"
   ]
  },
  {
   "cell_type": "code",
   "execution_count": 3,
   "id": "011e6044-dbde-434e-a7ec-6c3dda42afc1",
   "metadata": {},
   "outputs": [],
   "source": [
    "def normalize_img(image, label):\n",
    "  \"\"\"Normalizes images: `uint8` -> `float32`.\"\"\"\n",
    "  return tf.cast(image, tf.float32) / 255., label\n",
    "\n",
    "ds_train = ds_train.map(\n",
    "    normalize_img, num_parallel_calls=tf.data.AUTOTUNE)\n",
    "ds_train = ds_train.cache()\n",
    "#ds_train = ds_train.shuffle(ds_info.splits['train'].num_examples)\n",
    "ds_train = ds_train.batch(128)\n",
    "ds_train = ds_train.prefetch(tf.data.AUTOTUNE)\n",
    "\n",
    "ds_test = ds_test.map(\n",
    "    normalize_img, num_parallel_calls=tf.data.AUTOTUNE)\n",
    "ds_test = ds_test.batch(128)\n",
    "ds_test = ds_test.cache()\n",
    "ds_test = ds_test.prefetch(tf.data.AUTOTUNE)"
   ]
  },
  {
   "cell_type": "code",
   "execution_count": 29,
   "id": "c967d4dc-71a2-455b-9e53-77b4914590df",
   "metadata": {},
   "outputs": [],
   "source": [
    "model = tf.keras.models.Sequential([\n",
    "  tf.keras.layers.Flatten(input_shape=(28, 28)),\n",
    "  tf.keras.layers.Dense(128, activation='relu'),\n",
    "  tf.keras.layers.Dense(10)\n",
    "])\n",
    "metrics=[\n",
    "    (tf.keras.losses.SparseCategoricalCrossentropy(from_logits=True), 'SparseCategoricalCrossentropy'),\n",
    "    (tf.keras.metrics.SparseCategoricalAccuracy(), 'SparseCategoricalAccuracy')]\n",
    "model.compile(\n",
    "    optimizer=tf.keras.optimizers.Adam(0.001),\n",
    "    loss=tf.keras.losses.SparseCategoricalCrossentropy(from_logits=True),\n",
    "    metrics=[e[0] for e in metrics],\n",
    ")"
   ]
  },
  {
   "cell_type": "code",
   "execution_count": 5,
   "id": "9fd07f28-daae-43e1-bbf4-efcdc5809eba",
   "metadata": {},
   "outputs": [
    {
     "name": "stderr",
     "output_type": "stream",
     "text": [
      "2021-11-03 16:14:05.021812: I tensorflow/compiler/mlir/mlir_graph_optimization_pass.cc:185] None of the MLIR Optimization Passes are enabled (registered 2)\n"
     ]
    },
    {
     "name": "stdout",
     "output_type": "stream",
     "text": [
      "Epoch 1/6\n",
      "469/469 [==============================] - 3s 4ms/step - loss: 0.3544 - sparse_categorical_crossentropy: 0.3543 - sparse_categorical_accuracy: 0.9017 - val_loss: 0.1918 - val_sparse_categorical_crossentropy: 0.1909 - val_sparse_categorical_accuracy: 0.9434\n",
      "Epoch 2/6\n",
      "469/469 [==============================] - 1s 2ms/step - loss: 0.1664 - sparse_categorical_crossentropy: 0.1663 - sparse_categorical_accuracy: 0.9520 - val_loss: 0.1349 - val_sparse_categorical_crossentropy: 0.1342 - val_sparse_categorical_accuracy: 0.9618\n",
      "Epoch 3/6\n",
      "469/469 [==============================] - 1s 2ms/step - loss: 0.1185 - sparse_categorical_crossentropy: 0.1185 - sparse_categorical_accuracy: 0.9663 - val_loss: 0.1105 - val_sparse_categorical_crossentropy: 0.1097 - val_sparse_categorical_accuracy: 0.9678\n",
      "Epoch 4/6\n",
      "469/469 [==============================] - 1s 2ms/step - loss: 0.0912 - sparse_categorical_crossentropy: 0.0912 - sparse_categorical_accuracy: 0.9743 - val_loss: 0.0981 - val_sparse_categorical_crossentropy: 0.0974 - val_sparse_categorical_accuracy: 0.9704\n",
      "Epoch 5/6\n",
      "469/469 [==============================] - 1s 2ms/step - loss: 0.0732 - sparse_categorical_crossentropy: 0.0732 - sparse_categorical_accuracy: 0.9797 - val_loss: 0.0905 - val_sparse_categorical_crossentropy: 0.0898 - val_sparse_categorical_accuracy: 0.9729\n",
      "Epoch 6/6\n",
      "469/469 [==============================] - 1s 2ms/step - loss: 0.0600 - sparse_categorical_crossentropy: 0.0600 - sparse_categorical_accuracy: 0.9834 - val_loss: 0.0859 - val_sparse_categorical_crossentropy: 0.0851 - val_sparse_categorical_accuracy: 0.9744\n"
     ]
    },
    {
     "data": {
      "text/plain": [
       "<keras.callbacks.History at 0x7f02d02d5220>"
      ]
     },
     "execution_count": 5,
     "metadata": {},
     "output_type": "execute_result"
    }
   ],
   "source": [
    "model.fit(\n",
    "    ds_train,\n",
    "    epochs=6,\n",
    "    validation_data=ds_test,\n",
    ")"
   ]
  },
  {
   "cell_type": "code",
   "execution_count": 6,
   "id": "f5c4d00f-8e00-45b3-982d-22b64e2ac518",
   "metadata": {},
   "outputs": [
    {
     "name": "stdout",
     "output_type": "stream",
     "text": [
      "79/79 [==============================] - 0s 1ms/step - loss: 0.0859 - sparse_categorical_crossentropy: 0.0851 - sparse_categorical_accuracy: 0.9744\n"
     ]
    },
    {
     "data": {
      "text/plain": [
       "[0.08588618040084839, 0.08514388650655746, 0.974399983882904]"
      ]
     },
     "execution_count": 6,
     "metadata": {},
     "output_type": "execute_result"
    }
   ],
   "source": [
    "model.evaluate(ds_test)"
   ]
  },
  {
   "cell_type": "code",
   "execution_count": 7,
   "id": "558111b0-f65f-46cd-a8df-87bfd160b5e4",
   "metadata": {},
   "outputs": [],
   "source": [
    "def get_random_weights():\n",
    "    random_weights = []\n",
    "    for a in model.get_weights():\n",
    "        random_weights.append(np.random.random(a.shape)*2-1)\n",
    "    return random_weights"
   ]
  },
  {
   "cell_type": "code",
   "execution_count": 8,
   "id": "d30d3b5a-893c-4ef0-bb11-61b06f7cb775",
   "metadata": {},
   "outputs": [],
   "source": [
    "def flatten_weights(w):\n",
    "    w1 = []\n",
    "    for a in w:\n",
    "        w1.append(np.ndarray.flatten(a))\n",
    "    return np.concatenate(w1)"
   ]
  },
  {
   "cell_type": "code",
   "execution_count": 9,
   "id": "e1546701-53e0-40aa-afee-cb888f6d43a6",
   "metadata": {},
   "outputs": [],
   "source": [
    "def expand_weights(v, shapes):\n",
    "    w = []\n",
    "    shape_sizes = [np.prod(s) for s in shapes]\n",
    "    split_indicies = [shape_sizes[0]]\n",
    "    for l in shape_sizes[1:]:\n",
    "        split_indicies.append( split_indicies[-1] + l)\n",
    "    w1 = np.split(v, split_indicies)[:-1]\n",
    "    for s, w1_part in zip(shapes, w1):\n",
    "        w.append(np.reshape(w1_part, s))\n",
    "    return w"
   ]
  },
  {
   "cell_type": "code",
   "execution_count": 10,
   "id": "cf7b5efa-5169-43f8-81d1-04ff826e9704",
   "metadata": {},
   "outputs": [],
   "source": [
    "# random vectors. set them first, so we can explore freely afterwards\n",
    "rx = 2*np.random.random(np.size(flatten_weights(model.get_weights())))-1\n",
    "ry = 2*np.random.random(np.size(flatten_weights(model.get_weights())))-1"
   ]
  },
  {
   "cell_type": "code",
   "execution_count": 11,
   "id": "cc0d0fc1-042c-48c8-ac8d-88ba099dff32",
   "metadata": {},
   "outputs": [],
   "source": [
    "plt.close(\"all\")"
   ]
  },
  {
   "cell_type": "code",
   "execution_count": 30,
   "id": "a52cb973-ff55-47c8-ad5e-ec18dae9656d",
   "metadata": {},
   "outputs": [],
   "source": [
    "from functools import lru_cache\n",
    "\n",
    "@lru_cache(maxsize=32)\n",
    "def compute_losses(alpha, max_step):\n",
    "    w_old = w = flatten_weights(model.get_weights())\n",
    "    shapes = [s.shape for s in model.get_weights()]\n",
    "    \n",
    "    x_ticks = np.arange(-max_step, max_step)\n",
    "    y_ticks = np.arange(-max_step, max_step)\n",
    "    X, Y = np.meshgrid(x_ticks, y_ticks)\n",
    "    \n",
    "    def eval_step(x_tick, y_tick):\n",
    "        w = w_old + x_tick*alpha * rx + y_tick*alpha * ry\n",
    "        model.set_weights(expand_weights(w, shapes))\n",
    "        metrics = model.evaluate(ds_test, verbose=0)\n",
    "        pbar.update(1)\n",
    "        return metrics\n",
    "    evaluate = np.vectorize(eval_step, otypes=[object])\n",
    "    with tqdm(total=np.size(X)) as pbar:\n",
    "        Z = evaluate(X, Y)\n",
    "    model.set_weights(expand_weights(w_old, shapes))\n",
    "    \n",
    "    return X, Y, Z"
   ]
  },
  {
   "cell_type": "code",
   "execution_count": 32,
   "id": "2c955bc8-2e31-424b-aa6f-acdf457abf20",
   "metadata": {},
   "outputs": [
    {
     "data": {
      "application/vnd.jupyter.widget-view+json": {
       "model_id": "a8b7a86c553f4796abe396c23d952c9e",
       "version_major": 2,
       "version_minor": 0
      },
      "text/plain": [
       "interactive(children=(FloatText(value=0.01, description='alpha'), IntText(value=2, description='max_step'), Dr…"
      ]
     },
     "metadata": {},
     "output_type": "display_data"
    },
    {
     "data": {
      "application/vnd.jupyter.widget-view+json": {
       "model_id": "5f2f26885aa3463fa251fb1912f9f291",
       "version_major": 2,
       "version_minor": 0
      },
      "text/html": [
       "\n",
       "            <div style=\"display: inline-block;\">\n",
       "                <div class=\"jupyter-widgets widget-label\" style=\"text-align: center;\">\n",
       "                    Figure\n",
       "                </div>\n",
       "                <img src='data:image/png;base64,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' width=1280.0/>\n",
       "            </div>\n",
       "        "
      ],
      "text/plain": [
       "Canvas(toolbar=Toolbar(toolitems=[('Home', 'Reset original view', 'home', 'home'), ('Back', 'Back to previous …"
      ]
     },
     "metadata": {},
     "output_type": "display_data"
    }
   ],
   "source": [
    "fig, ax = plt.subplots(subplot_kw={\"projection\": \"3d\"})\n",
    "\n",
    "@interact_manual(alpha=widgets.FloatText(value=0.01), max_step=widgets.IntText(value=2), metric=[('loss', 0)]+[(e[1],i+1) for i, e in enumerate(metrics)])\n",
    "def landscape(alpha=0.01, max_step=4, metric=0):\n",
    "    \n",
    "    ax.cla()\n",
    "    #fig, ax = plt.subplots(subplot_kw={\"projection\": \"3d\"})\n",
    "\n",
    "    # Make data.\n",
    "    X, Y, metrics = compute_losses(alpha, max_step)\n",
    "    \n",
    "    def choose_metric(metric_list):\n",
    "        return metric_list[metric]\n",
    "    get_Z = np.vectorize(choose_metric, otypes=[float])\n",
    "    Z = get_Z(metrics)\n",
    "    \n",
    "    # Plot the surface.\n",
    "    surf = ax.plot_surface(X, Y, Z, cmap=cm.coolwarm,\n",
    "                           linewidth=0, antialiased=False)\n",
    "\n",
    "    #ax.zaxis.set_major_formatter('{x:.02f}')\n",
    "    #fig.colorbar(surf, shrink=0.5, aspect=10)"
   ]
  },
  {
   "cell_type": "code",
   "execution_count": 84,
   "id": "2b7955fc-5afd-40ee-8075-0d8419eaf870",
   "metadata": {},
   "outputs": [
    {
     "data": {
      "application/vnd.jupyter.widget-view+json": {
       "model_id": "42e49811aa324622b03fb48a90d6a6c3",
       "version_major": 2,
       "version_minor": 0
      },
      "text/plain": [
       "interactive(children=(Text(value='World', description='text'), Button(description='Run Interact', style=Button…"
      ]
     },
     "metadata": {},
     "output_type": "display_data"
    }
   ],
   "source": [
    "@interact.options(manual=True)\n",
    "def greeting(text=\"World\"):\n",
    "    print(\"Hello {}\".format(text))"
   ]
  },
  {
   "cell_type": "code",
   "execution_count": 26,
   "id": "33a3ca06-5395-4bd6-ad71-b2b769f58da2",
   "metadata": {},
   "outputs": [
    {
     "data": {
      "text/plain": [
       "[array([[ 0.02660616, -0.02686946, -0.06994642, ..., -0.04550598,\n",
       "          0.05684874,  0.00180864],\n",
       "        [ 0.05287934, -0.01794275,  0.02417303, ..., -0.00523295,\n",
       "          0.05626892, -0.01375547],\n",
       "        [-0.07490896,  0.05021379, -0.04490408, ..., -0.07918435,\n",
       "         -0.06255273, -0.05429044],\n",
       "        ...,\n",
       "        [-0.03569955, -0.04900896, -0.05350608, ...,  0.05493832,\n",
       "         -0.04809352,  0.07840014],\n",
       "        [ 0.041572  ,  0.04771969, -0.02365122, ..., -0.00416334,\n",
       "         -0.01546913, -0.04412607],\n",
       "        [-0.0457702 , -0.01496361,  0.06792883, ...,  0.0689223 ,\n",
       "         -0.07022363, -0.06747237]], dtype=float32),\n",
       " array([-3.41964047e-03,  4.59968857e-02,  6.22703433e-02,  1.18632400e-02,\n",
       "         5.26186340e-02,  7.88371041e-02,  3.88644859e-02, -2.45209597e-02,\n",
       "         8.26998875e-02,  1.50017902e-01,  3.08252387e-02, -1.79466903e-02,\n",
       "        -9.47698876e-02, -1.82520170e-02, -3.03230397e-02,  4.29878011e-02,\n",
       "         4.95704710e-02, -2.12050322e-02,  1.04761444e-01,  1.13447150e-02,\n",
       "        -2.19711522e-03, -2.76465733e-02,  1.15677789e-01,  1.03479661e-02,\n",
       "         2.07402743e-02,  5.25742508e-02, -4.92251888e-02,  8.23490322e-02,\n",
       "         2.00563781e-02,  4.01541628e-02,  4.46605422e-02,  5.13617024e-02,\n",
       "        -2.36530937e-02, -1.37619209e-03, -1.24078840e-02,  1.65750217e-02,\n",
       "         9.86546874e-02,  7.61729330e-02,  3.55768204e-02,  2.97500752e-02,\n",
       "         5.38972132e-02,  7.93506727e-02,  3.38240787e-02,  6.70416877e-02,\n",
       "         3.32375243e-03, -1.06749207e-01,  1.28803384e-02,  4.22262214e-02,\n",
       "         5.60240000e-02,  1.19220063e-01,  6.13800660e-02, -1.62418410e-02,\n",
       "         7.19345436e-02, -4.36003460e-03,  4.59859893e-02,  3.41300145e-02,\n",
       "         1.51034929e-02,  3.36316526e-02,  1.45392362e-02,  3.90950330e-02,\n",
       "        -4.49415147e-02,  9.05893967e-02,  4.88746949e-02, -8.99638683e-02,\n",
       "         1.84397504e-01,  7.89108425e-02,  1.35864645e-01,  1.81376040e-02,\n",
       "         1.26549408e-01,  8.77785534e-02, -8.41682702e-02,  4.19424176e-02,\n",
       "         1.91546045e-02,  1.00159518e-01, -1.20739769e-02,  1.20133080e-01,\n",
       "        -5.75645976e-02,  3.28234360e-02,  3.63985542e-03, -4.85869534e-02,\n",
       "        -3.98390666e-02, -2.86055673e-02, -7.10591376e-02,  1.22600526e-01,\n",
       "         5.38938120e-02,  1.31127508e-02, -6.93226582e-04, -4.33664070e-03,\n",
       "        -1.58804134e-02,  9.39052188e-05, -3.25227082e-02,  4.07583937e-02,\n",
       "         1.84322167e-02,  8.50037709e-02,  1.57994866e-01, -1.18971936e-01,\n",
       "         8.91480148e-02,  8.70285928e-03, -4.18529250e-02,  1.23306409e-01,\n",
       "         3.07072103e-02,  5.83623722e-02,  3.55962478e-02,  3.65897268e-02,\n",
       "         6.11862130e-02,  1.01497881e-02,  5.57513312e-02, -1.48535054e-02,\n",
       "         4.40947339e-02,  4.52761305e-03,  1.16854690e-01, -2.11980250e-02,\n",
       "         1.80086613e-01, -3.71674425e-03, -9.76073071e-02,  8.57515857e-02,\n",
       "        -9.46365073e-02,  6.72533689e-03, -3.84924598e-02,  1.59819022e-01,\n",
       "         3.25998552e-02,  1.46591906e-02,  4.23379689e-02,  3.36573087e-03,\n",
       "        -2.28829551e-02, -9.99585390e-02,  7.57307038e-02,  4.49780598e-02],\n",
       "       dtype=float32)]"
      ]
     },
     "execution_count": 26,
     "metadata": {},
     "output_type": "execute_result"
    }
   ],
   "source": [
    "model.layers[1].get_weights()"
   ]
  },
  {
   "cell_type": "code",
   "execution_count": null,
   "id": "75d7fe6a-782b-4e8f-9f8c-20c9198a22b5",
   "metadata": {},
   "outputs": [],
   "source": []
  },
  {
   "cell_type": "code",
   "execution_count": 27,
   "id": "2499a0da-bb09-4cef-b4f3-5415e9e02bca",
   "metadata": {},
   "outputs": [
    {
     "data": {
      "text/plain": [
       "20.832265529750277"
      ]
     },
     "execution_count": 27,
     "metadata": {},
     "output_type": "execute_result"
    }
   ],
   "source": [
    "np.dot(w, r2)"
   ]
  },
  {
   "cell_type": "code",
   "execution_count": 29,
   "id": "2516b47f-e9ce-4284-8a93-67e5a35c5e6c",
   "metadata": {},
   "outputs": [
    {
     "data": {
      "text/plain": [
       "7071.267"
      ]
     },
     "execution_count": 29,
     "metadata": {},
     "output_type": "execute_result"
    }
   ],
   "source": [
    "np.linalg.norm(w, ord=1)"
   ]
  },
  {
   "cell_type": "code",
   "execution_count": 31,
   "id": "5482f422-0b0d-4976-93d1-425be0003d58",
   "metadata": {},
   "outputs": [
    {
     "data": {
      "text/plain": [
       "50879.29091725648"
      ]
     },
     "execution_count": 31,
     "metadata": {},
     "output_type": "execute_result"
    }
   ],
   "source": [
    "np.linalg.norm(r2, ord=1)"
   ]
  },
  {
   "cell_type": "code",
   "execution_count": 32,
   "id": "afd2d3b7-3af0-41ec-954e-05aa5dd6b6f6",
   "metadata": {},
   "outputs": [
    {
     "data": {
      "text/plain": [
       "101770"
      ]
     },
     "execution_count": 32,
     "metadata": {},
     "output_type": "execute_result"
    }
   ],
   "source": [
    "len(r1)"
   ]
  },
  {
   "cell_type": "code",
   "execution_count": 18,
   "id": "85f5b57a-a42f-45e0-81f1-0693b26ef660",
   "metadata": {},
   "outputs": [],
   "source": [
    "r1 = get_random_weights()\n",
    "r2 = get_random_weights()"
   ]
  },
  {
   "cell_type": "code",
   "execution_count": 51,
   "id": "d79a7df0-6e7c-49f9-925f-b66ce3816723",
   "metadata": {},
   "outputs": [
    {
     "data": {
      "text/plain": [
       "[array([[-0.16888298, -0.87614519, -0.27124788, ...,  0.00569111,\n",
       "          0.51903026, -0.96267681],\n",
       "        [ 0.45234553,  0.79868451, -0.6507519 , ...,  0.90655505,\n",
       "          0.49706323, -0.09863212],\n",
       "        [ 0.99237552,  0.71506418, -0.11517515, ..., -0.05505343,\n",
       "         -0.86718021,  0.20924428],\n",
       "        ...,\n",
       "        [ 0.29463461, -0.7255769 , -0.79833826, ...,  0.08187646,\n",
       "          0.83062404,  0.87307578],\n",
       "        [-0.16745735, -0.69216449,  0.01854408, ..., -0.64844049,\n",
       "         -0.48972144,  0.30728545],\n",
       "        [-0.1835336 ,  0.05506204,  0.70786078, ...,  0.76778835,\n",
       "          0.67777739,  0.00186396]]),\n",
       " array([-1.74393452e-02,  6.77348943e-01,  1.72931103e-02,  1.79366138e-04,\n",
       "        -5.14494830e-02, -5.99715980e-01,  6.47264210e-01,  7.45091563e-01,\n",
       "         9.20268165e-01, -3.06257011e-01,  3.02711110e-02,  9.23116132e-01,\n",
       "        -3.94458577e-01, -7.19334387e-01,  7.02106282e-01, -2.84123864e-01,\n",
       "         6.40538133e-02,  6.79821486e-01, -1.93757603e-01,  2.70759730e-01,\n",
       "         5.29038138e-01, -8.64286084e-01, -2.08747254e-01, -4.79301300e-01,\n",
       "        -7.01990114e-01, -6.88393420e-01, -6.45055806e-01,  5.64386110e-03,\n",
       "        -8.78489921e-03,  3.78082164e-01,  3.58605585e-01, -2.62543071e-01,\n",
       "        -1.19130826e-01, -1.87550597e-01,  8.52787395e-01, -2.48763279e-01,\n",
       "        -9.52578646e-02,  8.17001213e-01,  4.88176338e-01,  1.52508219e-01,\n",
       "        -3.83358948e-01, -4.13329382e-01,  3.80063551e-01,  1.00548455e-01,\n",
       "        -3.47053011e-01,  1.71157006e-01,  6.92352819e-01, -9.54258374e-01,\n",
       "         5.71630682e-01,  7.47218460e-01,  3.73917284e-01,  7.59983899e-01,\n",
       "        -5.51550673e-02, -2.36647617e-01,  5.83966038e-01, -6.76327360e-01,\n",
       "         1.25240455e-01, -8.06118182e-01, -2.09879168e-01,  8.64955272e-01,\n",
       "        -9.15892490e-01,  6.37078403e-01, -5.86176406e-01,  9.19018255e-01,\n",
       "         8.62851766e-01,  4.98295867e-01,  1.00431659e-01, -3.50537392e-03,\n",
       "         6.18013440e-01,  6.51558986e-01, -6.60958628e-01, -7.28155806e-01,\n",
       "         8.97183929e-01, -6.40208448e-01,  7.05666863e-01, -4.66580200e-01,\n",
       "         5.24172955e-01,  7.67446180e-01, -3.99090267e-01,  5.61145369e-01,\n",
       "        -6.42929125e-02,  2.97454674e-01, -8.77334500e-02, -6.19817425e-01,\n",
       "         8.77297532e-01, -6.09690744e-01,  3.25620987e-01, -2.56802251e-02,\n",
       "        -3.59201983e-01,  8.14269253e-01,  4.82478003e-01, -3.13981189e-01,\n",
       "        -7.74175306e-01, -5.61446318e-01,  3.14996258e-01, -2.34846461e-01,\n",
       "         1.58139312e-01, -8.64507996e-01,  8.05376958e-01,  7.85095737e-01,\n",
       "        -7.87151496e-01, -9.20503731e-01,  7.21552434e-01, -6.22158560e-02,\n",
       "        -8.47332823e-01, -7.00168568e-01,  3.85455997e-01,  4.88090954e-01,\n",
       "         2.79278158e-01, -5.68231120e-01, -2.45486802e-01,  4.83492873e-01,\n",
       "         4.05536571e-01,  4.05201475e-01,  6.82584708e-01,  2.49885820e-01,\n",
       "        -1.51377002e-01, -3.86512605e-01,  3.85616349e-01,  9.42036422e-01,\n",
       "         6.78962501e-01,  6.48968528e-01,  4.55862942e-01, -7.32435136e-01,\n",
       "        -2.98115298e-01, -6.65357928e-01, -1.75634186e-01, -4.43849513e-01]),\n",
       " array([[-0.17512095,  0.33462616, -0.11825166, ...,  0.34412388,\n",
       "          0.66788951,  0.62225535],\n",
       "        [-0.99501155, -0.68824114, -0.42909362, ..., -0.78809143,\n",
       "          0.53926766, -0.34400314],\n",
       "        [ 0.49834627,  0.01639602, -0.97903763, ..., -0.55938139,\n",
       "          0.48388857, -0.24896119],\n",
       "        ...,\n",
       "        [ 0.71140593, -0.87889903, -0.52290397, ..., -0.43556843,\n",
       "         -0.66157495,  0.3196237 ],\n",
       "        [-0.27722158,  0.49940589,  0.68534639, ...,  0.7006532 ,\n",
       "         -0.66290246, -0.7744429 ],\n",
       "        [-0.19049035,  0.48783784, -0.17936352, ...,  0.26814318,\n",
       "          0.65061149, -0.4204512 ]]),\n",
       " array([ 0.11013727,  0.77279328,  0.62140876,  0.36487807, -0.35377663,\n",
       "        -0.11052451,  0.41412669, -0.76668073,  0.72164071, -0.17390858])]"
      ]
     },
     "execution_count": 51,
     "metadata": {},
     "output_type": "execute_result"
    }
   ],
   "source": [
    "w"
   ]
  },
  {
   "cell_type": "code",
   "execution_count": 43,
   "id": "53b6e91f-d929-465b-8c6f-06a505e70455",
   "metadata": {},
   "outputs": [
    {
     "data": {
      "text/plain": [
       "[array([[-0.16888298, -0.87614519, -0.27124788, ...,  0.00569111,\n",
       "          0.51903026, -0.96267681],\n",
       "        [ 0.45234553,  0.79868451, -0.6507519 , ...,  0.90655505,\n",
       "          0.49706323, -0.09863212],\n",
       "        [ 0.99237552,  0.71506418, -0.11517515, ..., -0.05505343,\n",
       "         -0.86718021,  0.20924428],\n",
       "        ...,\n",
       "        [ 0.29463461, -0.7255769 , -0.79833826, ...,  0.08187646,\n",
       "          0.83062404,  0.87307578],\n",
       "        [-0.16745735, -0.69216449,  0.01854408, ..., -0.64844049,\n",
       "         -0.48972144,  0.30728545],\n",
       "        [-0.1835336 ,  0.05506204,  0.70786078, ...,  0.76778835,\n",
       "          0.67777739,  0.00186396]]),\n",
       " array([-1.74393452e-02,  6.77348943e-01,  1.72931103e-02,  1.79366138e-04,\n",
       "        -5.14494830e-02, -5.99715980e-01,  6.47264210e-01,  7.45091563e-01,\n",
       "         9.20268165e-01, -3.06257011e-01,  3.02711110e-02,  9.23116132e-01,\n",
       "        -3.94458577e-01, -7.19334387e-01,  7.02106282e-01, -2.84123864e-01,\n",
       "         6.40538133e-02,  6.79821486e-01, -1.93757603e-01,  2.70759730e-01,\n",
       "         5.29038138e-01, -8.64286084e-01, -2.08747254e-01, -4.79301300e-01,\n",
       "        -7.01990114e-01, -6.88393420e-01, -6.45055806e-01,  5.64386110e-03,\n",
       "        -8.78489921e-03,  3.78082164e-01,  3.58605585e-01, -2.62543071e-01,\n",
       "        -1.19130826e-01, -1.87550597e-01,  8.52787395e-01, -2.48763279e-01,\n",
       "        -9.52578646e-02,  8.17001213e-01,  4.88176338e-01,  1.52508219e-01,\n",
       "        -3.83358948e-01, -4.13329382e-01,  3.80063551e-01,  1.00548455e-01,\n",
       "        -3.47053011e-01,  1.71157006e-01,  6.92352819e-01, -9.54258374e-01,\n",
       "         5.71630682e-01,  7.47218460e-01,  3.73917284e-01,  7.59983899e-01,\n",
       "        -5.51550673e-02, -2.36647617e-01,  5.83966038e-01, -6.76327360e-01,\n",
       "         1.25240455e-01, -8.06118182e-01, -2.09879168e-01,  8.64955272e-01,\n",
       "        -9.15892490e-01,  6.37078403e-01, -5.86176406e-01,  9.19018255e-01,\n",
       "         8.62851766e-01,  4.98295867e-01,  1.00431659e-01, -3.50537392e-03,\n",
       "         6.18013440e-01,  6.51558986e-01, -6.60958628e-01, -7.28155806e-01,\n",
       "         8.97183929e-01, -6.40208448e-01,  7.05666863e-01, -4.66580200e-01,\n",
       "         5.24172955e-01,  7.67446180e-01, -3.99090267e-01,  5.61145369e-01,\n",
       "        -6.42929125e-02,  2.97454674e-01, -8.77334500e-02, -6.19817425e-01,\n",
       "         8.77297532e-01, -6.09690744e-01,  3.25620987e-01, -2.56802251e-02,\n",
       "        -3.59201983e-01,  8.14269253e-01,  4.82478003e-01, -3.13981189e-01,\n",
       "        -7.74175306e-01, -5.61446318e-01,  3.14996258e-01, -2.34846461e-01,\n",
       "         1.58139312e-01, -8.64507996e-01,  8.05376958e-01,  7.85095737e-01,\n",
       "        -7.87151496e-01, -9.20503731e-01,  7.21552434e-01, -6.22158560e-02,\n",
       "        -8.47332823e-01, -7.00168568e-01,  3.85455997e-01,  4.88090954e-01,\n",
       "         2.79278158e-01, -5.68231120e-01, -2.45486802e-01,  4.83492873e-01,\n",
       "         4.05536571e-01,  4.05201475e-01,  6.82584708e-01,  2.49885820e-01,\n",
       "        -1.51377002e-01, -3.86512605e-01,  3.85616349e-01,  9.42036422e-01,\n",
       "         6.78962501e-01,  6.48968528e-01,  4.55862942e-01, -7.32435136e-01,\n",
       "        -2.98115298e-01, -6.65357928e-01, -1.75634186e-01, -4.43849513e-01]),\n",
       " array([[-0.17512095,  0.33462616, -0.11825166, ...,  0.34412388,\n",
       "          0.66788951,  0.62225535],\n",
       "        [-0.99501155, -0.68824114, -0.42909362, ..., -0.78809143,\n",
       "          0.53926766, -0.34400314],\n",
       "        [ 0.49834627,  0.01639602, -0.97903763, ..., -0.55938139,\n",
       "          0.48388857, -0.24896119],\n",
       "        ...,\n",
       "        [ 0.71140593, -0.87889903, -0.52290397, ..., -0.43556843,\n",
       "         -0.66157495,  0.3196237 ],\n",
       "        [-0.27722158,  0.49940589,  0.68534639, ...,  0.7006532 ,\n",
       "         -0.66290246, -0.7744429 ],\n",
       "        [-0.19049035,  0.48783784, -0.17936352, ...,  0.26814318,\n",
       "          0.65061149, -0.4204512 ]]),\n",
       " array([ 0.11013727,  0.77279328,  0.62140876,  0.36487807, -0.35377663,\n",
       "        -0.11052451,  0.41412669, -0.76668073,  0.72164071, -0.17390858])]"
      ]
     },
     "execution_count": 43,
     "metadata": {},
     "output_type": "execute_result"
    }
   ],
   "source": [
    "r1"
   ]
  },
  {
   "cell_type": "code",
   "execution_count": null,
   "id": "322f6f65-8849-4784-8cf3-06a4fdde6c83",
   "metadata": {},
   "outputs": [],
   "source": []
  },
  {
   "cell_type": "code",
   "execution_count": null,
   "id": "be4c0717-5df9-4988-a898-8c2b7b371aa2",
   "metadata": {},
   "outputs": [],
   "source": []
  },
  {
   "cell_type": "code",
   "execution_count": null,
   "id": "a88b0810-4019-467b-8706-5c719a1c8eb2",
   "metadata": {},
   "outputs": [],
   "source": []
  },
  {
   "cell_type": "code",
   "execution_count": 19,
   "id": "82645673-959a-46c0-a9c4-79af30a9eb9c",
   "metadata": {},
   "outputs": [
    {
     "ename": "ValueError",
     "evalue": "setting an array element with a sequence.",
     "output_type": "error",
     "traceback": [
      "\u001b[0;31m---------------------------------------------------------------------------\u001b[0m",
      "\u001b[0;31mTypeError\u001b[0m                                 Traceback (most recent call last)",
      "\u001b[0;31mTypeError\u001b[0m: only size-1 arrays can be converted to Python scalars",
      "\nThe above exception was the direct cause of the following exception:\n",
      "\u001b[0;31mValueError\u001b[0m                                Traceback (most recent call last)",
      "\u001b[0;32m/tmp/ipykernel_1536/3368897880.py\u001b[0m in \u001b[0;36m<module>\u001b[0;34m\u001b[0m\n\u001b[0;32m----> 1\u001b[0;31m \u001b[0mnp\u001b[0m\u001b[0;34m.\u001b[0m\u001b[0mdot\u001b[0m\u001b[0;34m(\u001b[0m\u001b[0mr1\u001b[0m\u001b[0;34m,\u001b[0m \u001b[0mr2\u001b[0m\u001b[0;34m)\u001b[0m\u001b[0;34m\u001b[0m\u001b[0;34m\u001b[0m\u001b[0m\n\u001b[0m",
      "\u001b[0;32m<__array_function__ internals>\u001b[0m in \u001b[0;36mdot\u001b[0;34m(*args, **kwargs)\u001b[0m\n",
      "\u001b[0;31mValueError\u001b[0m: setting an array element with a sequence."
     ]
    }
   ],
   "source": [
    "np.dot(r1, r2)"
   ]
  },
  {
   "cell_type": "code",
   "execution_count": null,
   "id": "f89d1fd4-0ce3-41da-bb4c-9ca5d5ed5ba5",
   "metadata": {},
   "outputs": [],
   "source": []
  },
  {
   "cell_type": "code",
   "execution_count": null,
   "id": "3423a390-27df-4055-a879-cf78066d31e8",
   "metadata": {},
   "outputs": [],
   "source": []
  },
  {
   "cell_type": "code",
   "execution_count": 9,
   "id": "40bbeab0-a0e3-45cc-92ba-9fb423864584",
   "metadata": {},
   "outputs": [
    {
     "data": {
      "text/plain": [
       "<PrefetchDataset shapes: ((None, 28, 28, 1), (None,)), types: (tf.float32, tf.int64)>"
      ]
     },
     "execution_count": 9,
     "metadata": {},
     "output_type": "execute_result"
    }
   ],
   "source": [
    "ds_train"
   ]
  },
  {
   "cell_type": "code",
   "execution_count": 10,
   "id": "54523edf-4548-4276-8b44-7a48b9034cb9",
   "metadata": {},
   "outputs": [],
   "source": [
    "ex = ds_train.take(1)"
   ]
  },
  {
   "cell_type": "code",
   "execution_count": 13,
   "id": "3e14ebf4-6f5e-466b-a342-bc0f62881a24",
   "metadata": {},
   "outputs": [],
   "source": [
    "e = next(iter(ex))"
   ]
  },
  {
   "cell_type": "code",
   "execution_count": 19,
   "id": "d05a954b-5017-4d12-93f1-fdc0348acfd2",
   "metadata": {},
   "outputs": [],
   "source": [
    "im = e[0]"
   ]
  },
  {
   "cell_type": "code",
   "execution_count": 21,
   "id": "79ac7378-8dff-47da-800c-a18ac87e0229",
   "metadata": {},
   "outputs": [],
   "source": [
    "i = im[0]"
   ]
  },
  {
   "cell_type": "code",
   "execution_count": 22,
   "id": "20a7eb90-926d-4c2b-b198-a16a4f8a8df1",
   "metadata": {},
   "outputs": [
    {
     "data": {
      "text/plain": [
       "<matplotlib.image.AxesImage at 0x7f5043f9e550>"
      ]
     },
     "execution_count": 22,
     "metadata": {},
     "output_type": "execute_result"
    },
    {
     "data": {
      "image/png": "[encoded data removed]",
      "text/plain": [
       "<Figure size 1200x800 with 1 Axes>"
      ]
     },
     "metadata": {
      "needs_background": "light"
     },
     "output_type": "display_data"
    }
   ],
   "source": [
    "plt.imshow(i)"
   ]
  },
  {
   "cell_type": "code",
   "execution_count": 23,
   "id": "4fab3989-1f8f-4a53-809d-95ba29b3e0c0",
   "metadata": {},
   "outputs": [
    {
     "data": {
      "text/plain": [
       "<tf.Tensor: shape=(), dtype=int64, numpy=4>"
      ]
     },
     "execution_count": 23,
     "metadata": {},
     "output_type": "execute_result"
    }
   ],
   "source": [
    "e[1][0]"
   ]
  },
  {
   "cell_type": "code",
   "execution_count": 27,
   "id": "a83ea73c-f4e0-48d7-8e28-9a360c08c280",
   "metadata": {},
   "outputs": [],
   "source": [
    "p = model.predict(im)"
   ]
  },
  {
   "cell_type": "code",
   "execution_count": 28,
   "id": "f06a9fbd-50e9-4da6-a4f3-6e155d9c4f4b",
   "metadata": {},
   "outputs": [
    {
     "data": {
      "text/plain": [
       "(128, 10)"
      ]
     },
     "execution_count": 28,
     "metadata": {},
     "output_type": "execute_result"
    }
   ],
   "source": [
    "p.shape"
   ]
  },
  {
   "cell_type": "code",
   "execution_count": 29,
   "id": "4560316f-0b7d-4702-98d9-a520749447fb",
   "metadata": {},
   "outputs": [],
   "source": [
    "t = p[0]"
   ]
  },
  {
   "cell_type": "code",
   "execution_count": 31,
   "id": "cc996752-fdc0-4bc9-9159-38f73b59e55d",
   "metadata": {},
   "outputs": [
    {
     "data": {
      "text/plain": [
       "4"
      ]
     },
     "execution_count": 31,
     "metadata": {},
     "output_type": "execute_result"
    }
   ],
   "source": [
    "np.argmax(t)"
   ]
  },
  {
   "cell_type": "code",
   "execution_count": 34,
   "id": "a6184870-9321-4f11-a92c-9ad9c6f20769",
   "metadata": {},
   "outputs": [],
   "source": [
    "sm = tf.keras.layers.Softmax()"
   ]
  },
  {
   "cell_type": "code",
   "execution_count": 38,
   "id": "6f834d64-d000-47dc-8dd9-72509c28cca8",
   "metadata": {},
   "outputs": [],
   "source": [
    "meins = sm(model.output)"
   ]
  },
  {
   "cell_type": "code",
   "execution_count": 42,
   "id": "b0073cf6-f2c3-4259-8396-4409e04d2492",
   "metadata": {},
   "outputs": [],
   "source": [
    "mm = tf.keras.Model(inputs=model.input, outputs=meins)"
   ]
  },
  {
   "cell_type": "code",
   "execution_count": 43,
   "id": "2027d76b-ac1b-4ee9-9e61-35e748da3a85",
   "metadata": {},
   "outputs": [
    {
     "data": {
      "text/plain": [
       "<tf.Tensor: shape=(128, 10), dtype=float32, numpy=\n",
       "array([[5.1425718e-06, 1.8319575e-02, 4.3463577e-05, ..., 1.6005764e-04,\n",
       "        5.1142083e-04, 1.1169482e-03],\n",
       "       [6.0048421e-07, 9.9865013e-01, 2.4196643e-05, ..., 1.2614659e-03,\n",
       "        2.1656619e-05, 5.9581607e-06],\n",
       "       [9.9965322e-01, 5.5898077e-09, 1.2982838e-05, ..., 4.2144457e-09,\n",
       "        8.1180195e-07, 7.5386487e-07],\n",
       "       ...,\n",
       "       [3.3447355e-07, 1.1130666e-04, 4.6524225e-04, ..., 9.9824047e-01,\n",
       "        8.1167163e-06, 2.6101721e-05],\n",
       "       [1.3311543e-08, 1.2039908e-08, 1.6086922e-06, ..., 2.3125762e-10,\n",
       "        1.9370203e-09, 2.4098492e-11],\n",
       "       [4.9667369e-06, 9.9968541e-01, 1.1704471e-04, ..., 3.2323846e-05,\n",
       "        1.4163707e-04, 2.5566596e-06]], dtype=float32)>"
      ]
     },
     "execution_count": 43,
     "metadata": {},
     "output_type": "execute_result"
    }
   ],
   "source": [
    "mm(im)"
   ]
  },
  {
   "cell_type": "code",
   "execution_count": 57,
   "id": "efaf31ae-3927-47e2-b676-7c1eb268c393",
   "metadata": {},
   "outputs": [
    {
     "data": {
      "application/vnd.jupyter.widget-view+json": {
       "model_id": "bd8ae4228bc04a21a2c93b9e57ab470e",
       "version_major": 2,
       "version_minor": 0
      },
      "text/plain": [
       "interactive(children=(IntSlider(value=0, description='i', max=127), Output()), _dom_classes=('widget-interact'…"
      ]
     },
     "metadata": {},
     "output_type": "display_data"
    }
   ],
   "source": [
    "@interact(i=(0,127))\n",
    "def mm_plot(i = 0):\n",
    "    fig, ax = plt.subplots(ncols=2)\n",
    "    ax[0].imshow(im[i])\n",
    "    ax[1].bar(range(1,11), Out[43][i])\n",
    "    ax[1].set_xticks(range(1,11))"
   ]
  },
  {
   "cell_type": "code",
   "execution_count": 58,
   "id": "8aaabb2c-b765-4993-aa09-1ef8163a6bff",
   "metadata": {},
   "outputs": [
    {
     "data": {
      "text/plain": [
       "[<tf.Variable 'dense_2/kernel:0' shape=(784, 128) dtype=float32, numpy=\n",
       " array([[-0.0784678 , -0.01035945, -0.02908415, ...,  0.07686088,\n",
       "         -0.00490943, -0.03702372],\n",
       "        [ 0.06863401,  0.05573548, -0.06102663, ...,  0.04181542,\n",
       "         -0.06183247, -0.03855152],\n",
       "        [-0.03764753, -0.03659715,  0.04771172, ..., -0.0458688 ,\n",
       "          0.04726813,  0.0792697 ],\n",
       "        ...,\n",
       "        [-0.00989278, -0.05006088,  0.03803635, ..., -0.02156168,\n",
       "         -0.07235549,  0.00897661],\n",
       "        [ 0.06179593, -0.04707681,  0.04510636, ..., -0.01048132,\n",
       "         -0.05490205, -0.00229399],\n",
       "        [ 0.01904713, -0.07873177, -0.04064336, ...,  0.06929254,\n",
       "          0.06509268,  0.03284328]], dtype=float32)>,\n",
       " <tf.Variable 'dense_2/bias:0' shape=(128,) dtype=float32, numpy=\n",
       " array([ 0.02706814,  0.14346655,  0.08292618, -0.00993588, -0.1123052 ,\n",
       "        -0.04154807,  0.01522012, -0.00757664, -0.01427385,  0.12775674,\n",
       "         0.14880957, -0.00577279,  0.00452142, -0.02732761, -0.03835348,\n",
       "         0.03927573, -0.07086158,  0.03349281,  0.02749039,  0.05287187,\n",
       "        -0.01867294,  0.0147923 ,  0.08817869, -0.01489372, -0.02885315,\n",
       "        -0.02249729,  0.01797145, -0.09487804, -0.09063981,  0.03553819,\n",
       "        -0.02416595,  0.10464845,  0.01483513, -0.0411917 , -0.04198503,\n",
       "         0.02295233,  0.04679946, -0.0271549 ,  0.05402103, -0.02613223,\n",
       "         0.07681602,  0.06364878,  0.08845711, -0.02496768,  0.14518532,\n",
       "         0.02812389,  0.07815067,  0.02417488, -0.01790262,  0.03401661,\n",
       "         0.07073385,  0.00934586, -0.04788719,  0.08738559, -0.01809091,\n",
       "        -0.04062146,  0.15263997, -0.09881956,  0.09164584,  0.03891512,\n",
       "        -0.03410216,  0.0117062 ,  0.0212828 ,  0.0036826 ,  0.06577655,\n",
       "         0.00552292, -0.05303596,  0.06791972,  0.03331709,  0.1842696 ,\n",
       "        -0.02151879, -0.06018643,  0.00250615, -0.07052412,  0.09009813,\n",
       "         0.09363627,  0.07430625,  0.05553952,  0.08962291,  0.11691276,\n",
       "        -0.00966749,  0.04176512, -0.01992066, -0.03524355, -0.04635409,\n",
       "         0.07985663,  0.06220444,  0.06439314, -0.0790325 ,  0.0853098 ,\n",
       "         0.11026229,  0.08136331, -0.07026096, -0.00165134,  0.02298324,\n",
       "        -0.00317555,  0.01535792,  0.01847402,  0.07225427, -0.12265522,\n",
       "        -0.04807569, -0.04104498,  0.00747086, -0.03961847, -0.01846983,\n",
       "         0.09418248,  0.04679227, -0.04184508,  0.10007085,  0.10836962,\n",
       "         0.05526846, -0.03392139,  0.05325929, -0.02266472,  0.18044738,\n",
       "         0.05641066, -0.00733259, -0.05756859, -0.00206168, -0.00745977,\n",
       "         0.0359397 , -0.00138196,  0.06218941, -0.0083147 , -0.05201793,\n",
       "         0.10254408, -0.02606091,  0.05459316], dtype=float32)>,\n",
       " <tf.Variable 'dense_3/kernel:0' shape=(128, 10) dtype=float32, numpy=\n",
       " array([[-0.2800452 , -0.45607862, -0.5852915 , ..., -0.2978811 ,\n",
       "         -0.08720881,  0.18275933],\n",
       "        [ 0.21554713,  0.30572212, -0.04436678, ...,  0.37340102,\n",
       "         -0.5701308 , -0.27246353],\n",
       "        [-0.08208806, -0.04532731, -0.00139727, ...,  0.32045916,\n",
       "         -0.39238325,  0.23645234],\n",
       "        ...,\n",
       "        [ 0.15960383,  0.10285383, -0.5648088 , ...,  0.14942156,\n",
       "          0.09078348, -0.3177965 ],\n",
       "        [ 0.04734449,  0.04961934, -0.05743317, ...,  0.18878156,\n",
       "          0.07161169, -0.13008231],\n",
       "        [ 0.17068462,  0.09555578,  0.24544285, ...,  0.26541743,\n",
       "         -0.20741634,  0.21241078]], dtype=float32)>,\n",
       " <tf.Variable 'dense_3/bias:0' shape=(10,) dtype=float32, numpy=\n",
       " array([-0.0873166 ,  0.02028604,  0.06479792, -0.08475411,  0.0106867 ,\n",
       "         0.09173401, -0.03094307,  0.02490304,  0.02323703, -0.05838479],\n",
       "       dtype=float32)>]"
      ]
     },
     "execution_count": 58,
     "metadata": {},
     "output_type": "execute_result"
    }
   ],
   "source": [
    "model.weights"
   ]
  },
  {
   "cell_type": "code",
   "execution_count": 61,
   "id": "f3f85eca-4c6e-448c-8cee-c264934b2ad4",
   "metadata": {},
   "outputs": [],
   "source": [
    "a = tf.ones((2,2))"
   ]
  },
  {
   "cell_type": "code",
   "execution_count": 63,
   "id": "0350507a-4d00-4650-91b7-48b8b5ef677c",
   "metadata": {},
   "outputs": [],
   "source": [
    "b = a+a"
   ]
  },
  {
   "cell_type": "code",
   "execution_count": 74,
   "id": "67f6f23f-a113-44b1-b10e-f264a74db26b",
   "metadata": {},
   "outputs": [],
   "source": [
    "c = b + tf.eye(2)"
   ]
  },
  {
   "cell_type": "code",
   "execution_count": 75,
   "id": "9facd858-fabe-4aba-a96f-f5e58b1bd2c9",
   "metadata": {},
   "outputs": [
    {
     "data": {
      "text/plain": [
       "<tf.Tensor: shape=(2, 2), dtype=float32, numpy=\n",
       "array([[3., 2.],\n",
       "       [2., 3.]], dtype=float32)>"
      ]
     },
     "execution_count": 75,
     "metadata": {},
     "output_type": "execute_result"
    }
   ],
   "source": [
    "c"
   ]
  },
  {
   "cell_type": "code",
   "execution_count": 76,
   "id": "62f8f365-e69b-4b76-807b-7b2b04c7a746",
   "metadata": {},
   "outputs": [
    {
     "data": {
      "text/plain": [
       "<tf.Tensor: shape=(2, 2), dtype=float32, numpy=\n",
       "array([[9., 4.],\n",
       "       [4., 9.]], dtype=float32)>"
      ]
     },
     "execution_count": 76,
     "metadata": {},
     "output_type": "execute_result"
    }
   ],
   "source": [
    "tf.square(c)"
   ]
  },
  {
   "cell_type": "code",
   "execution_count": 60,
   "id": "1bbdc086-3863-4614-9dcf-06471c95fd7f",
   "metadata": {},
   "outputs": [
    {
     "data": {
      "text/plain": [
       "784"
      ]
     },
     "execution_count": 60,
     "metadata": {},
     "output_type": "execute_result"
    }
   ],
   "source": []
  },
  {
   "cell_type": "code",
   "execution_count": null,
   "id": "4b016026-6450-4a1c-ad8d-1329c8d55312",
   "metadata": {},
   "outputs": [],
   "source": []
  },
  {
   "cell_type": "code",
   "execution_count": 100,
   "id": "b7b22895-95bf-411e-baf8-674c3432cb1b",
   "metadata": {},
   "outputs": [
    {
     "data": {
      "application/vnd.jupyter.widget-view+json": {
       "model_id": "e9ce613668494fed92932d535c129c05",
       "version_major": 2,
       "version_minor": 0
      },
      "text/plain": [
       "interactive(children=(FloatSlider(value=5.0, description='w', max=20.0, min=4.0), Output()), _dom_classes=('wi…"
      ]
     },
     "metadata": {},
     "output_type": "display_data"
    }
   ],
   "source": [
    "@interact(w=(4.0, 20.0))\n",
    "def myplot(w=5.0):\n",
    "    fig, ax = plt.subplots(subplot_kw={\"projection\": \"3d\"})\n",
    "\n",
    "    # Make data.\n",
    "    X = np.arange(-w, w, w/400)\n",
    "    Y = np.arange(-w, w, w/400)\n",
    "    #X = np.arange(-5, 5, 0.25)\n",
    "    #Y = np.arange(-5, 5, 0.25)\n",
    "    X, Y = np.meshgrid(X, Y)\n",
    "    R = np.sqrt(X**2 + Y**2)\n",
    "    Z = np.sin(R)\n",
    "\n",
    "    # Plot the surface.\n",
    "    surf = ax.plot_surface(X, Y, Z, cmap=cm.coolwarm,\n",
    "                           linewidth=0, antialiased=False)\n",
    "\n",
    "    # Customize the z axis.\n",
    "    ax.set_zlim(-1.01, 1.01)\n",
    "    ax.zaxis.set_major_locator(LinearLocator(10))\n",
    "    # A StrMethodFormatter is used automatically\n",
    "    ax.zaxis.set_major_formatter('{x:.02f}')\n",
    "\n",
    "    # Add a color bar which maps values to colors.\n",
    "    fig.colorbar(surf, shrink=0.5, aspect=10)"
   ]
  },
  {
   "cell_type": "code",
   "execution_count": 16,
   "id": "60d75370-71a4-45e9-a045-47ed8e09d3bc",
   "metadata": {},
   "outputs": [
    {
     "data": {
      "text/plain": [
       "\u001b[0;31mSignature:\u001b[0m \u001b[0mfig\u001b[0m\u001b[0;34m.\u001b[0m\u001b[0mcolorbar\u001b[0m\u001b[0;34m(\u001b[0m\u001b[0mmappable\u001b[0m\u001b[0;34m,\u001b[0m \u001b[0mcax\u001b[0m\u001b[0;34m=\u001b[0m\u001b[0;32mNone\u001b[0m\u001b[0;34m,\u001b[0m \u001b[0max\u001b[0m\u001b[0;34m=\u001b[0m\u001b[0;32mNone\u001b[0m\u001b[0;34m,\u001b[0m \u001b[0muse_gridspec\u001b[0m\u001b[0;34m=\u001b[0m\u001b[0;32mTrue\u001b[0m\u001b[0;34m,\u001b[0m \u001b[0;34m**\u001b[0m\u001b[0mkw\u001b[0m\u001b[0;34m)\u001b[0m\u001b[0;34m\u001b[0m\u001b[0;34m\u001b[0m\u001b[0m\n",
       "\u001b[0;31mDocstring:\u001b[0m\n",
       "Add a colorbar to a plot.\n",
       "\n",
       "Parameters\n",
       "----------\n",
       "mappable\n",
       "    The `matplotlib.cm.ScalarMappable` (i.e., `~matplotlib.image.AxesImage`,\n",
       "    `~matplotlib.contour.ContourSet`, etc.) described by this colorbar.\n",
       "    This argument is mandatory for the `.Figure.colorbar` method but optional\n",
       "    for the `.pyplot.colorbar` function, which sets the default to the current\n",
       "    image.\n",
       "\n",
       "    Note that one can create a `.ScalarMappable` \"on-the-fly\" to generate\n",
       "    colorbars not attached to a previously drawn artist, e.g. ::\n",
       "\n",
       "        fig.colorbar(cm.ScalarMappable(norm=norm, cmap=cmap), ax=ax)\n",
       "\n",
       "cax : `~matplotlib.axes.Axes`, optional\n",
       "    Axes into which the colorbar will be drawn.\n",
       "\n",
       "ax : `~matplotlib.axes.Axes`, list of Axes, optional\n",
       "    One or more parent axes from which space for a new colorbar axes will be\n",
       "    stolen, if *cax* is None.  This has no effect if *cax* is set.\n",
       "\n",
       "use_gridspec : bool, optional\n",
       "    If *cax* is ``None``, a new *cax* is created as an instance of Axes.  If\n",
       "    *ax* is an instance of Subplot and *use_gridspec* is ``True``, *cax* is\n",
       "    created as an instance of Subplot using the :mod:`~.gridspec` module.\n",
       "\n",
       "Returns\n",
       "-------\n",
       "colorbar : `~matplotlib.colorbar.Colorbar`\n",
       "    See also its base class, `~matplotlib.colorbar.ColorbarBase`.\n",
       "\n",
       "Notes\n",
       "-----\n",
       "Additional keyword arguments are of two kinds:\n",
       "\n",
       "  axes properties:\n",
       "\n",
       "    location : None or {'left', 'right', 'top', 'bottom'}\n",
       "        The location, relative to the parent axes, where the colorbar axes\n",
       "        is created.  It also determines the *orientation* of the colorbar\n",
       "        (colorbars on the left and right are vertical, colorbars at the top\n",
       "        and bottom are horizontal).  If None, the location will come from the\n",
       "        *orientation* if it is set (vertical colorbars on the right, horizontal\n",
       "        ones at the bottom), or default to 'right' if *orientation* is unset.\n",
       "    orientation : None or {'vertical', 'horizontal'}\n",
       "        The orientation of the colorbar.  It is preferable to set the *location*\n",
       "        of the colorbar, as that also determines the *orientation*; passing\n",
       "        incompatible values for *location* and *orientation* raises an exception.\n",
       "    fraction : float, default: 0.15\n",
       "        Fraction of original axes to use for colorbar.\n",
       "    shrink : float, default: 1.0\n",
       "        Fraction by which to multiply the size of the colorbar.\n",
       "    aspect : float, default: 20\n",
       "        Ratio of long to short dimensions.\n",
       "\n",
       "\n",
       "    pad : float, default: 0.05 if vertical, 0.15 if horizontal\n",
       "        Fraction of original axes between colorbar and new image axes.\n",
       "    anchor : (float, float), optional\n",
       "        The anchor point of the colorbar axes.\n",
       "        Defaults to (0.0, 0.5) if vertical; (0.5, 1.0) if horizontal.\n",
       "    panchor : (float, float), or *False*, optional\n",
       "        The anchor point of the colorbar parent axes. If *False*, the parent\n",
       "        axes' anchor will be unchanged.\n",
       "        Defaults to (1.0, 0.5) if vertical; (0.5, 0.0) if horizontal.\n",
       "\n",
       "  colorbar properties:\n",
       "\n",
       "\n",
       "    ============  ====================================================\n",
       "    Property      Description\n",
       "    ============  ====================================================\n",
       "    *extend*      {'neither', 'both', 'min', 'max'}\n",
       "                  If not 'neither', make pointed end(s) for out-of-\n",
       "                  range values.  These are set for a given colormap\n",
       "                  using the colormap set_under and set_over methods.\n",
       "    *extendfrac*  {*None*, 'auto', length, lengths}\n",
       "                  If set to *None*, both the minimum and maximum\n",
       "                  triangular colorbar extensions with have a length of\n",
       "                  5% of the interior colorbar length (this is the\n",
       "                  default setting). If set to 'auto', makes the\n",
       "                  triangular colorbar extensions the same lengths as\n",
       "                  the interior boxes (when *spacing* is set to\n",
       "                  'uniform') or the same lengths as the respective\n",
       "                  adjacent interior boxes (when *spacing* is set to\n",
       "                  'proportional'). If a scalar, indicates the length\n",
       "                  of both the minimum and maximum triangular colorbar\n",
       "                  extensions as a fraction of the interior colorbar\n",
       "                  length. A two-element sequence of fractions may also\n",
       "                  be given, indicating the lengths of the minimum and\n",
       "                  maximum colorbar extensions respectively as a\n",
       "                  fraction of the interior colorbar length.\n",
       "    *extendrect*  bool\n",
       "                  If *False* the minimum and maximum colorbar extensions\n",
       "                  will be triangular (the default). If *True* the\n",
       "                  extensions will be rectangular.\n",
       "    *spacing*     {'uniform', 'proportional'}\n",
       "                  Uniform spacing gives each discrete color the same\n",
       "                  space; proportional makes the space proportional to\n",
       "                  the data interval.\n",
       "    *ticks*       *None* or list of ticks or Locator\n",
       "                  If None, ticks are determined automatically from the\n",
       "                  input.\n",
       "    *format*      None or str or Formatter\n",
       "                  If None, `~.ticker.ScalarFormatter` is used.\n",
       "                  If a format string is given, e.g., '%.3f', that is used.\n",
       "                  An alternative `~.ticker.Formatter` may be given instead.\n",
       "    *drawedges*   bool\n",
       "                  Whether to draw lines at color boundaries.\n",
       "    *label*       str\n",
       "                  The label on the colorbar's long axis.\n",
       "    ============  ====================================================\n",
       "\n",
       "    The following will probably be useful only in the context of\n",
       "    indexed colors (that is, when the mappable has norm=NoNorm()),\n",
       "    or other unusual circumstances.\n",
       "\n",
       "    ============   ===================================================\n",
       "    Property       Description\n",
       "    ============   ===================================================\n",
       "    *boundaries*   None or a sequence\n",
       "    *values*       None or a sequence which must be of length 1 less\n",
       "                   than the sequence of *boundaries*. For each region\n",
       "                   delimited by adjacent entries in *boundaries*, the\n",
       "                   colormapped to the corresponding value in values\n",
       "                   will be used.\n",
       "    ============   ===================================================\n",
       "\n",
       "\n",
       "\n",
       "If *mappable* is a `~.contour.ContourSet`, its *extend* kwarg is included\n",
       "automatically.\n",
       "\n",
       "The *shrink* kwarg provides a simple way to scale the colorbar with respect\n",
       "to the axes. Note that if *cax* is specified, it determines the size of the\n",
       "colorbar and *shrink* and *aspect* kwargs are ignored.\n",
       "\n",
       "For more precise control, you can manually specify the positions of\n",
       "the axes objects in which the mappable and the colorbar are drawn.  In\n",
       "this case, do not use any of the axes properties kwargs.\n",
       "\n",
       "It is known that some vector graphics viewers (svg and pdf) renders white gaps\n",
       "between segments of the colorbar.  This is due to bugs in the viewers, not\n",
       "Matplotlib.  As a workaround, the colorbar can be rendered with overlapping\n",
       "segments::\n",
       "\n",
       "    cbar = colorbar()\n",
       "    cbar.solids.set_edgecolor(\"face\")\n",
       "    draw()\n",
       "\n",
       "However this has negative consequences in other circumstances, e.g. with\n",
       "semi-transparent images (alpha < 1) and colorbar extensions; therefore, this\n",
       "workaround is not used by default (see issue #1188).\n",
       "\u001b[0;31mFile:\u001b[0m      ~/Uni/HiWi/landscapes/.venv/lib/python3.9/site-packages/matplotlib/figure.py\n",
       "\u001b[0;31mType:\u001b[0m      method\n"
      ]
     },
     "metadata": {},
     "output_type": "display_data"
    }
   ],
   "source": [
    "fig.colorbar?"
   ]
  },
  {
   "cell_type": "code",
   "execution_count": null,
   "id": "153b1667-4169-4759-945b-f6e4e3e26d61",
   "metadata": {},
   "outputs": [],
   "source": []
  }
 ],
 "metadata": {
  "kernelspec": {
   "display_name": "Python 3 (ipykernel)",
   "language": "python",
   "name": "python3"
  },
  "language_info": {
   "codemirror_mode": {
    "name": "ipython",
    "version": 3
   },
   "file_extension": ".py",
   "mimetype": "text/x-python",
   "name": "python",
   "nbconvert_exporter": "python",
   "pygments_lexer": "ipython3",
   "version": "3.8.12"
  }
 },
 "nbformat": 4,
 "nbformat_minor": 5
}
